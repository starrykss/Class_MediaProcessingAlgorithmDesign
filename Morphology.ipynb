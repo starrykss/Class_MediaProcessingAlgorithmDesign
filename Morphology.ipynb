{
 "cells": [
  {
   "cell_type": "markdown",
   "metadata": {},
   "source": [
    "# Morphology"
   ]
  },
  {
   "cell_type": "code",
   "execution_count": 1,
   "metadata": {},
   "outputs": [],
   "source": [
    "import cv2\n",
    "import numpy as np"
   ]
  },
  {
   "cell_type": "code",
   "execution_count": 2,
   "metadata": {},
   "outputs": [],
   "source": [
    "src = cv2.imread('./data/morphology.jpg', cv2.IMREAD_GRAYSCALE)\n",
    "kernel = cv2.getStructuringElement(shape=cv2.MORPH_RECT, ksize=(3,3))\n",
    "\n",
    "erode = cv2.erode(src, kernel, iterations = 5)\n",
    "dilate = cv2.dilate(src, kernel, iterations = 5)\n",
    "\n",
    "erode2 = cv2.erode(dilate, kernel, iterations = 7)  # close\n",
    "dilate2 = cv2.dilate(erode2, kernel, iterations = 2) \n",
    "\n",
    "cv2.imshow('src', src)\n",
    "cv2.imshow('erode', erode)\n",
    "cv2.imshow('dilate', dilate)\n",
    "cv2.imshow('erode2', erode2)\n",
    "cv2.imshow('dilate2', dilate2)\n",
    "\n",
    "cv2.waitKey()\n",
    "cv2.destroyAllWindows()"
   ]
  },
  {
   "cell_type": "code",
   "execution_count": 4,
   "metadata": {},
   "outputs": [],
   "source": [
    "kernel = cv2.getStructuringElement(shape=cv2.MORPH_RECT, ksize=(3,3))\n",
    "closing = cv2.morphologyEx(src, cv2.MORPH_CLOSE, kernel, iterations = 5)\n",
    "opening = cv2.morphologyEx(closing, cv2.MORPH_OPEN, kernel, iterations = 5)\n",
    "gradient = cv2.morphologyEx(opening, cv2.MORPH_GRADIENT, kernel)\n",
    "gradient = cv2.morphologyEx(opening, cv2.MORPH_GRADIENT, kernel, iterations = 5)\n",
    "\n",
    "tophat = cv2.morphologyEx(src, cv2.MORPH_TOPHAT, kernel, iterations = 5)\n",
    "blackhat = cv2.morphologyEx(src, cv2.MORPH_BLACKHAT, kernel, iterations = 5)\n",
    "\n",
    "cv2.imshow('src', src)\n",
    "cv2.imshow('opening', opening)\n",
    "cv2.imshow('closing', closing)\n",
    "cv2.imshow('gradient', gradient)\n",
    "cv2.imshow('tophat', tophat)\n",
    "cv2.imshow('blackhat', blackhat)\n",
    "\n",
    "cv2.waitKey()\n",
    "cv2.destroyAllWindows()"
   ]
  }
 ],
 "metadata": {
  "kernelspec": {
   "display_name": "Python 3",
   "language": "python",
   "name": "python3"
  },
  "language_info": {
   "codemirror_mode": {
    "name": "ipython",
    "version": 3
   },
   "file_extension": ".py",
   "mimetype": "text/x-python",
   "name": "python",
   "nbconvert_exporter": "python",
   "pygments_lexer": "ipython3",
   "version": "3.7.6"
  }
 },
 "nbformat": 4,
 "nbformat_minor": 4
}
