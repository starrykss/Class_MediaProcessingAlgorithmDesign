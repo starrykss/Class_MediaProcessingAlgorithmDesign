{
 "cells": [
  {
   "cell_type": "markdown",
   "metadata": {},
   "source": [
    "# General Filtering"
   ]
  },
  {
   "cell_type": "code",
   "execution_count": 2,
   "metadata": {},
   "outputs": [],
   "source": [
    "import cv2\n",
    "import numpy as np"
   ]
  },
  {
   "cell_type": "code",
   "execution_count": 5,
   "metadata": {},
   "outputs": [
    {
     "name": "stdout",
     "output_type": "stream",
     "text": [
      "kx= [[-1.]\n",
      " [ 0.]\n",
      " [ 1.]]\n",
      "ky= [[1.]\n",
      " [2.]\n",
      " [1.]]\n",
      "sobelX= [[-1.  0.  1.]\n",
      " [-2.  0.  2.]\n",
      " [-1.  0.  1.]]\n",
      "kx= [[1.]\n",
      " [2.]\n",
      " [1.]]\n",
      "ky= [[-1.]\n",
      " [ 0.]\n",
      " [ 1.]]\n",
      "sobelY= [[-1. -2. -1.]\n",
      " [ 0.  0.  0.]\n",
      " [ 1.  2.  1.]]\n"
     ]
    }
   ],
   "source": [
    "src = cv2.imread('./data/rect.jpg', cv2.IMREAD_GRAYSCALE)\n",
    "## src = cv2.imread('./data/lena.jpg', cv2.IMREAD_GRAYSCALE)\n",
    "\n",
    "#1\n",
    "kx, ky = cv2.getDerivKernels(1, 0, ksize=3)\n",
    "sobelX = ky.dot(kx.T)\n",
    "print('kx=', kx)\n",
    "print('ky=', ky)\n",
    "print('sobelX=', sobelX)\n",
    "gx = cv2.filter2D(src, cv2.CV_32F, sobelX)\n",
    "## gx = cv2.sepFilter2D(src, dv2.CV_32F, kx, ky)\n",
    "\n",
    "#2\n",
    "kx, ky = cv2.getDerivKernels(0, 1, ksize=3)\n",
    "sobelY = ky.dot(kx.T)\n",
    "print('kx=', kx)\n",
    "print('ky=', ky)\n",
    "print('sobelY=', sobelY)\n",
    "gy = cv2.filter2D(src, cv2.CV_32F, sobelY)\n",
    "## gy = cv2.sepFilter2D(src, dv2.CV_32F, kx, ky)\n",
    "\n",
    "#3\n",
    "mag = cv2.magnitude(gx, gy)\n",
    "ret, edge = cv2.threshold(mag, 100, 255, cv2.THRESH_BINARY)\n",
    "\n",
    "cv2.imshow('src', src)\n",
    "cv2.imshow('edge', edge)\n",
    "cv2.waitKey()\n",
    "cv2.destroyAllWindows()"
   ]
  },
  {
   "cell_type": "code",
   "execution_count": 14,
   "metadata": {},
   "outputs": [
    {
     "name": "stdout",
     "output_type": "stream",
     "text": [
      "sigma= 1.4\n",
      "[[ 0.00311849  0.00709736  0.01011525  0.01086527  0.01011525  0.00709736\n",
      "   0.00311849]\n",
      " [ 0.00709736  0.01121144  0.00615637  0.0003048   0.00615637  0.01121144\n",
      "   0.00709736]\n",
      " [ 0.01011525  0.00615637 -0.02474903 -0.04811319 -0.02474903  0.00615637\n",
      "   0.01011525]\n",
      " [ 0.01086527  0.0003048  -0.04811319 -0.08285867 -0.04811319  0.0003048\n",
      "   0.01086527]\n",
      " [ 0.01011525  0.00615637 -0.02474903 -0.04811319 -0.02474903  0.00615637\n",
      "   0.01011525]\n",
      " [ 0.00709736  0.01121144  0.00615637  0.0003048   0.00615637  0.01121144\n",
      "   0.00709736]\n",
      " [ 0.00311849  0.00709736  0.01011525  0.01086527  0.01011525  0.00709736\n",
      "   0.00311849]]\n"
     ]
    }
   ],
   "source": [
    "src = cv2.imread('./data/lena.jpg', cv2.IMREAD_GRAYSCALE)\n",
    "\n",
    "#1\n",
    "def logFilter(ksize=7):\n",
    "    k2 = ksize//2\n",
    "    sigma = 0.3*(k2-1) + 0.8\n",
    "    print('sigma=', sigma)\n",
    "    LoG = np.zeros((ksize, ksize), dtype=np.float32)\n",
    "    for y in range(-k2, k2+1):\n",
    "        for x in range(-k2, k2+1):\n",
    "            g = -(x*x+y*y) / (2.0+sigma**2.0)\n",
    "            LoG[y+k2, x+k2] = -(1.0+g)*np.exp(g)/(np.pi*sigma**4.0)\n",
    "    return LoG\n",
    "\n",
    "#2\n",
    "kernel = logFilter()  # 7, 15, 31, 51\n",
    "print(kernel)\n",
    "LoG = cv2.filter2D(src, cv2.CV_32F, kernel)\n",
    "cv2.imshow('src', src)\n",
    "cv2.imshow('LoG', LoG)\n",
    "cv2.waitKey()\n",
    "cv2.destroyAllWindows()"
   ]
  },
  {
   "cell_type": "code",
   "execution_count": 16,
   "metadata": {},
   "outputs": [
    {
     "name": "stdout",
     "output_type": "stream",
     "text": [
      "[[-1 -1  0]\n",
      " [-1  0  1]\n",
      " [ 0  1  1]]\n"
     ]
    }
   ],
   "source": [
    "kernel = np.array([[-1, -1, 0], [-1, 0, 1], [0, 1, 1]]) # kernel에 원하는 필터 입력\n",
    "print(kernel)\n",
    "img = cv2.filter2D(src, cv2.CV_32F, kernel)\n",
    "cv2.imshow('src', src)\n",
    "cv2.imshow('img', img)\n",
    "cv2.waitKey()\n",
    "cv2.destroyAllWindows()"
   ]
  }
 ],
 "metadata": {
  "kernelspec": {
   "display_name": "Python 3",
   "language": "python",
   "name": "python3"
  },
  "language_info": {
   "codemirror_mode": {
    "name": "ipython",
    "version": 3
   },
   "file_extension": ".py",
   "mimetype": "text/x-python",
   "name": "python",
   "nbconvert_exporter": "python",
   "pygments_lexer": "ipython3",
   "version": "3.7.6"
  }
 },
 "nbformat": 4,
 "nbformat_minor": 4
}
