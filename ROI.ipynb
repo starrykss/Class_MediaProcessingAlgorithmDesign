{
 "cells": [
  {
   "cell_type": "markdown",
   "metadata": {},
   "source": [
    "#  ROI\n",
    "---"
   ]
  },
  {
   "cell_type": "code",
   "execution_count": 1,
   "metadata": {},
   "outputs": [],
   "source": [
    "import cv2\n",
    "import numpy as np"
   ]
  },
  {
   "cell_type": "code",
   "execution_count": 2,
   "metadata": {},
   "outputs": [
    {
     "name": "stdout",
     "output_type": "stream",
     "text": [
      "512 512\n",
      "256 256\n"
     ]
    }
   ],
   "source": [
    "img = cv2.imread('./data/lena.jpg', cv2.IMREAD_GRAYSCALE)\n",
    "\n",
    "(h, w) = img.shape\n",
    "print(h, w)\n",
    "\n",
    "(cy, cx) = (h // 2, w // 2)\n",
    "print(cy, cx)\n",
    "\n",
    "roi = img[0:cy, 0:cx]\n",
    "\n",
    "cv2.imshow('ROI', roi)\n",
    "cv2.waitKey()\n",
    "cv2.destroyAllWindows()"
   ]
  },
  {
   "cell_type": "code",
   "execution_count": 3,
   "metadata": {},
   "outputs": [
    {
     "name": "stdout",
     "output_type": "stream",
     "text": [
      "(123.74676513671875, 0.0, 0.0, 0.0)\n",
      "(137.78948974609375, 0.0, 0.0, 0.0)\n",
      "(144.8642578125, 0.0, 0.0, 0.0)\n",
      "(114.6787109375, 0.0, 0.0, 0.0)\n",
      "(118.6441650390625, 0.0, 0.0, 0.0)\n",
      "(118.2379150390625, 0.0, 0.0, 0.0)\n",
      "(160.2237548828125, 0.0, 0.0, 0.0)\n",
      "(128.29620361328125, 0.0, 0.0, 0.0)\n",
      "(108.54736328125, 0.0, 0.0, 0.0)\n",
      "(94.21343994140625, 0.0, 0.0, 0.0)\n",
      "(116.92889404296875, 0.0, 0.0, 0.0)\n",
      "(160.38909912109375, 0.0, 0.0, 0.0)\n",
      "(98.98077392578125, 0.0, 0.0, 0.0)\n",
      "(87.4166259765625, 0.0, 0.0, 0.0)\n",
      "(152.8258056640625, 0.0, 0.0, 0.0)\n",
      "(121.42633056640625, 0.0, 0.0, 0.0)\n"
     ]
    }
   ],
   "source": [
    "src = cv2.imread('./data/lena.jpg', cv2.IMREAD_GRAYSCALE)\n",
    "dst = np.zeros(src.shape, dtype = src.dtype)\n",
    "\n",
    "N = 4  # 8, 32, 64\n",
    "height, width = src.shape   # 그레이스케일 영상\n",
    "h = height // N\n",
    "w = width // N\n",
    "for i in range(N):\n",
    "    for j in range(N):\n",
    "        y = i * h\n",
    "        x = j * w\n",
    "        roi = src[y:y+h, x:x+w]\n",
    "        val = cv2.mean(roi)\n",
    "        print(val)\n",
    "        dst[y:y+h, x:x+w] = val[0]  # 그레이스케일 영상\n",
    "        \n",
    "cv2.imshow('dst', dst)\n",
    "cv2.waitKey()\n",
    "cv2.destroyAllWindows()"
   ]
  },
  {
   "cell_type": "code",
   "execution_count": 6,
   "metadata": {},
   "outputs": [
    {
     "name": "stdout",
     "output_type": "stream",
     "text": [
      "roi =  (103, 43, 309, 358)\n"
     ]
    }
   ],
   "source": [
    "src = cv2.imread('./data/lena.jpg', cv2.IMREAD_GRAYSCALE)\n",
    "roi = cv2.selectROI(src) # 마우스로 ROI 설정\n",
    "print('roi = ', roi)\n",
    "\n",
    "image = src[roi[1]:roi[1]+roi[3], roi[0]:roi[0]+roi[2]]\n",
    "\n",
    "cv2.imshow('img', image)\n",
    "cv2.waitKey()\n",
    "cv2.destroyAllWindows()\n",
    "\n",
    "# 마우스로 ROI를 지정 후, SpaceBar/ESC를 누른다."
   ]
  },
  {
   "cell_type": "code",
   "execution_count": 7,
   "metadata": {},
   "outputs": [
    {
     "name": "stdout",
     "output_type": "stream",
     "text": [
      "rects =  [[109 131 136 102]\n",
      " [304 109 146 126]\n",
      " [ 37 117 114 134]\n",
      " [146 375 135  83]\n",
      " [183 179 134 117]\n",
      " [ 62  76 268 129]\n",
      " [167 207 220 176]\n",
      " [128  58 159 106]\n",
      " [128 247 209 182]\n",
      " [167 115 124  90]\n",
      " [189 306 170 124]\n",
      " [ 91 145 227 142]]\n"
     ]
    }
   ],
   "source": [
    "src = cv2.imread('./data/lena.jpg', cv2.IMREAD_GRAYSCALE)\n",
    "rects = cv2.selectROIs('src', src, False, False)   # ROI 여러 개 지정\n",
    "print('rects = ', rects)\n",
    "\n",
    "for r in rects:\n",
    "    cv2.rectangle(src, (r[0], r[1]), (r[0] + r[2], r[1] + r[3]), 255)\n",
    "    \n",
    "cv2.imshow('src', src)\n",
    "cv2.waitKey()\n",
    "cv2.destroyAllWindows()"
   ]
  }
 ],
 "metadata": {
  "kernelspec": {
   "display_name": "Python 3",
   "language": "python",
   "name": "python3"
  },
  "language_info": {
   "codemirror_mode": {
    "name": "ipython",
    "version": 3
   },
   "file_extension": ".py",
   "mimetype": "text/x-python",
   "name": "python",
   "nbconvert_exporter": "python",
   "pygments_lexer": "ipython3",
   "version": "3.7.6"
  }
 },
 "nbformat": 4,
 "nbformat_minor": 4
}
