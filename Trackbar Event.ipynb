{
 "cells": [
  {
   "cell_type": "markdown",
   "metadata": {},
   "source": [
    "# Trackbar Event\n",
    "---"
   ]
  },
  {
   "cell_type": "code",
   "execution_count": 1,
   "metadata": {},
   "outputs": [],
   "source": [
    "import numpy as np\n",
    "import cv2"
   ]
  },
  {
   "cell_type": "code",
   "execution_count": 2,
   "metadata": {},
   "outputs": [],
   "source": [
    "def onChange(pos):  # 트랙바 핸들러\n",
    "    global img\n",
    "    r = cv2.getTrackbarPos('R', 'img')\n",
    "    g = cv2.getTrackbarPos('G', 'img')\n",
    "    b = cv2.getTrackbarPos('B', 'img')\n",
    "    img[:] = (b, g, r)\n",
    "    cv2.imshow('img', img)"
   ]
  },
  {
   "cell_type": "code",
   "execution_count": 6,
   "metadata": {},
   "outputs": [],
   "source": [
    "img = np.zeros((512, 512, 3), np.uint8)  # black\n",
    "cv2.imshow('img', img)\n",
    "\n",
    "# 트랙바 생성\n",
    "cv2.createTrackbar('R', 'img', 0, 255, onChange)\n",
    "cv2.createTrackbar('G', 'img', 0, 255, onChange)\n",
    "cv2.createTrackbar('B', 'img', 0, 255, onChange)\n",
    "\n",
    "# 트랙바 위치 초기화\n",
    "cv2.setTrackbarPos('R', 'img', 0)\n",
    "cv2.setTrackbarPos('G', 'img', 0)\n",
    "cv2.setTrackbarPos('B', 'img', 255)\n",
    "\n",
    "cv2.waitKey()\n",
    "cv2.destroyAllWindows()"
   ]
  }
 ],
 "metadata": {
  "kernelspec": {
   "display_name": "Python 3",
   "language": "python",
   "name": "python3"
  },
  "language_info": {
   "codemirror_mode": {
    "name": "ipython",
    "version": 3
   },
   "file_extension": ".py",
   "mimetype": "text/x-python",
   "name": "python",
   "nbconvert_exporter": "python",
   "pygments_lexer": "ipython3",
   "version": "3.7.6"
  }
 },
 "nbformat": 4,
 "nbformat_minor": 4
}
