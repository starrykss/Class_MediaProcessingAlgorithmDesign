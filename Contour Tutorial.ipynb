{
 "cells": [
  {
   "cell_type": "markdown",
   "metadata": {},
   "source": [
    "# Contour Tutorial"
   ]
  },
  {
   "cell_type": "code",
   "execution_count": 1,
   "metadata": {},
   "outputs": [],
   "source": [
    "import cv2\n",
    "import numpy as np"
   ]
  },
  {
   "cell_type": "code",
   "execution_count": 4,
   "metadata": {},
   "outputs": [
    {
     "name": "stdout",
     "output_type": "stream",
     "text": [
      "type(contours)= <class 'list'>\n",
      "type(contours[0])= <class 'numpy.ndarray'>\n",
      "len(contours)= 1\n",
      "contours[0].shape= (4, 1, 2)\n",
      "contours[0]= [[[ 50 100]]\n",
      "\n",
      " [[ 50 400]]\n",
      "\n",
      " [[450 400]]\n",
      "\n",
      " [[450 100]]]\n"
     ]
    }
   ],
   "source": [
    "src = np.zeros(shape=(512, 512, 3), dtype=np.uint8)\n",
    "\n",
    "cv2.rectangle(src, (50, 100), (450, 400), (255, 255, 255), -1)\n",
    "cv2.rectangle(src, (100, 150), (400, 350), (0, 0, 0), -1)\n",
    "cv2.rectangle(src, (200, 200), (300, 300), (255, 255, 255), -1)\n",
    "gray = cv2.cvtColor(src, cv2.COLOR_BGR2GRAY)\n",
    "\n",
    "mode = cv2.RETR_EXTERNAL\n",
    "# mode = cv2.RETR_LIST\n",
    "method = cv2.CHAIN_APPROX_SIMPLE\n",
    "# method = cv2.CHAIN_APPROX_NONE\n",
    "contours, hierachy = cv2.findContours(gray, mode, method)\n",
    "\n",
    "print('type(contours)=', type(contours))\n",
    "print('type(contours[0])=', type(contours[0]))\n",
    "print('len(contours)=', len(contours))\n",
    "print('contours[0].shape=', contours[0].shape)\n",
    "print('contours[0]=', contours[0])\n",
    "\n",
    "cv2.drawContours(src, contours, -1, (255, 0, 0), 3)  # 모든 윤곽선\n",
    "\n",
    "for pt in contours[0][:] : # 윤곽선 좌표\n",
    "    cv2.circle(src, (pt[0][0], pt[0][1]), 5, (0, 0, 255), -1)\n",
    "    \n",
    "cv2.imshow('src', src)\n",
    "cv2.waitKey()\n",
    "cv2.destroyAllWindows()"
   ]
  },
  {
   "cell_type": "code",
   "execution_count": 7,
   "metadata": {},
   "outputs": [
    {
     "name": "stdout",
     "output_type": "stream",
     "text": [
      "0 [ 1 -1 -1 -1]\n",
      "1 [ 2  0 -1 -1]\n",
      "2 [-1  1 -1 -1]\n"
     ]
    }
   ],
   "source": [
    "src = cv2.imread('./data/circles.jpg', cv2.IMREAD_COLOR)\n",
    "\n",
    "gray = cv2.cvtColor(src, cv2.COLOR_RGB2GRAY)\n",
    "ret, binary = cv2.threshold(gray, 127, 255, cv2.THRESH_BINARY_INV)\n",
    "\n",
    "contours, hierachy = cv2.findContours(binary, cv2.RETR_CCOMP, cv2.CHAIN_APPROX_NONE)\n",
    "\n",
    "for i in range(len(contours)):\n",
    "    cv2.drawContours(src, [contours[i]], 0, (0, 0, 255), 2)\n",
    "    cv2.putText(src, str(i), tuple(contours[i][0][0]), cv2.FONT_HERSHEY_COMPLEX, 0.8, (0, 255, 0), 1)\n",
    "    print(i, hierachy[0][i])\n",
    "    cv2.imshow('src', src)\n",
    "    cv2.waitKey()\n",
    "    \n",
    "cv2. destroyAllWindows()"
   ]
  }
 ],
 "metadata": {
  "kernelspec": {
   "display_name": "Python 3",
   "language": "python",
   "name": "python3"
  },
  "language_info": {
   "codemirror_mode": {
    "name": "ipython",
    "version": 3
   },
   "file_extension": ".py",
   "mimetype": "text/x-python",
   "name": "python",
   "nbconvert_exporter": "python",
   "pygments_lexer": "ipython3",
   "version": "3.7.6"
  }
 },
 "nbformat": 4,
 "nbformat_minor": 4
}
