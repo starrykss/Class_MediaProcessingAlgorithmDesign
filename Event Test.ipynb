{
 "cells": [
  {
   "cell_type": "markdown",
   "metadata": {},
   "source": [
    "# Event Test\n",
    "---"
   ]
  },
  {
   "cell_type": "code",
   "execution_count": 1,
   "metadata": {},
   "outputs": [],
   "source": [
    "import numpy as np\n",
    "import cv2\n",
    "\n",
    "image1 = './data/lena.jpg'\n",
    "image2 = './data/baboon.jpg'\n",
    "\n",
    "img1 = 0\n",
    "img2 = 0\n",
    "img3 = 0"
   ]
  },
  {
   "cell_type": "code",
   "execution_count": 2,
   "metadata": {},
   "outputs": [],
   "source": [
    "def onChange(pos):  # 트랙바 핸들러\n",
    "    n = cv2.getTrackbarPos('alpha', 'image')\n",
    "    alpha = n / 100;\n",
    "    img3 = np.uint8((alpha * img2 + (1 - alpha) * img1))\n",
    "    cv2.imshow('image', img3)"
   ]
  },
  {
   "cell_type": "code",
   "execution_count": 3,
   "metadata": {},
   "outputs": [],
   "source": [
    "img1 = cv2.imread(image1)\n",
    "img2 = cv2.imread(image2)\n",
    "img3 = img1.copy()\n",
    "\n",
    "cv2.imshow('image', img3)\n",
    "cv2.createTrackbar('alpha', 'image', 0, 100, onChange)\n",
    "\n",
    "cv2.waitKey()\n",
    "cv2.destroyAllWindows()"
   ]
  }
 ],
 "metadata": {
  "kernelspec": {
   "display_name": "Python 3",
   "language": "python",
   "name": "python3"
  },
  "language_info": {
   "codemirror_mode": {
    "name": "ipython",
    "version": 3
   },
   "file_extension": ".py",
   "mimetype": "text/x-python",
   "name": "python",
   "nbconvert_exporter": "python",
   "pygments_lexer": "ipython3",
   "version": "3.7.6"
  }
 },
 "nbformat": 4,
 "nbformat_minor": 4
}
