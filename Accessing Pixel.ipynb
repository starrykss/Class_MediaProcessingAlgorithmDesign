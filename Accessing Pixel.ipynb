{
 "cells": [
  {
   "cell_type": "markdown",
   "metadata": {},
   "source": [
    "# Accessing Pixel\n",
    "---"
   ]
  },
  {
   "cell_type": "code",
   "execution_count": 9,
   "metadata": {},
   "outputs": [],
   "source": [
    "import cv2\n",
    "import numpy as np"
   ]
  },
  {
   "cell_type": "code",
   "execution_count": 10,
   "metadata": {},
   "outputs": [
    {
     "name": "stdout",
     "output_type": "stream",
     "text": [
      "img.ndim= 3\n",
      "img.shape= (512, 512, 3)\n",
      "img.dtype= uint8\n",
      "img.dtype= int32\n",
      "img.dtype= uint8\n"
     ]
    }
   ],
   "source": [
    "img = cv2.imread('./data/lena.jpg')  # cv2.IMREAD_COLOR\n",
    "\n",
    "print('img.ndim=', img.ndim)  # 차원\n",
    "print('img.shape=', img.shape)\n",
    "print('img.dtype=', img.dtype)\n",
    "\n",
    "## np.bool, np.uint16, np.uint32, np,float32, np.float64, np.complex64\n",
    "img = img.astype(np.int32)\n",
    "print('img.dtype=', img.dtype)\n",
    "\n",
    "img = np.uint8(img)\n",
    "print('img.dtype=', img.dtype)"
   ]
  },
  {
   "cell_type": "code",
   "execution_count": 11,
   "metadata": {},
   "outputs": [
    {
     "name": "stdout",
     "output_type": "stream",
     "text": [
      "img.shape= (512, 512)\n",
      "img,shape= (262144,)\n",
      "img.shape= (512, 512)\n"
     ]
    }
   ],
   "source": [
    "img = cv2.imread('./data/lena.jpg', cv2.IMREAD_GRAYSCALE)\n",
    "print('img.shape=', img.shape)\n",
    "\n",
    "## img = img.flatten()  # 2차원의 이미지를 1차원으로 늘리는 함수\n",
    "img = img.reshape(img.shape[0] * img.shape[1])  # 1차원으로 변경(width * height)\n",
    "print('img,shape=', img.shape)\n",
    "\n",
    "img = img.reshape(512, 512)\n",
    "print('img.shape=', img.shape)\n",
    "\n",
    "cv2.imshow('img', img)\n",
    "cv2.waitKey()\n",
    "cv2.destroyAllWindows()"
   ]
  },
  {
   "cell_type": "code",
   "execution_count": 12,
   "metadata": {},
   "outputs": [
    {
     "name": "stdout",
     "output_type": "stream",
     "text": [
      "[]\n"
     ]
    }
   ],
   "source": [
    "img = cv2.imread('./data/lena.jpg', cv2.IMREAD_GRAYSCALE)\n",
    "# (200,100)에 밝기값을 0으로 설정\n",
    "img[100, 200] = 0  # 화소값(밝기, 그레이스케일) 변경\n",
    "print(img[100:100, 200:210]) # ROI 접근\n",
    "\n",
    "## C/C++ Style\n",
    "## for y in range(100, 400):\n",
    "##     for x in range(200, 300):\n",
    "##          img[y, x] = 0\n",
    "\n",
    "## Python Style\n",
    "img[100:400, 200:300] = 0   # ROI 접근\n",
    "cv2.imshow('img', img)\n",
    "cv2.waitKey()\n",
    "cv2.destroyAllWindows()"
   ]
  },
  {
   "cell_type": "code",
   "execution_count": 13,
   "metadata": {},
   "outputs": [
    {
     "name": "stdout",
     "output_type": "stream",
     "text": [
      "[[255   0   0]\n",
      " [116 115 207]\n",
      " [120 116 211]\n",
      " [107 103 198]\n",
      " [119 121 209]\n",
      " [116 118 206]\n",
      " [115 114 206]\n",
      " [112 111 203]\n",
      " [104 105 195]\n",
      " [110 112 200]]\n"
     ]
    }
   ],
   "source": [
    "img = cv2.imread('./data/lena.jpg')  # cv2.IMREAD_COLOR\n",
    "img[100, 200] = [255, 0, 0]  # 컬러(BGR) 변경\n",
    "print(img[100, 200:210])  # ROI 접근\n",
    "\n",
    "## for y in range(100, 400):\n",
    "##     for x in range(200, 300):\n",
    "##          img[y, x] = [255, 0, 0,]   # 파랑색(blue)으로 변경\n",
    "\n",
    "img[100:400, 200:300] = [255, 0, 0]  # ROI 접근\n",
    "\n",
    "cv2.imshow('img', img)\n",
    "cv2.waitKey()\n",
    "cv2.destroyAllWindows()"
   ]
  },
  {
   "cell_type": "code",
   "execution_count": 14,
   "metadata": {},
   "outputs": [],
   "source": [
    "img = cv2.imread('./data/lena.jpg')  # cv2.IMREAD_COLOR\n",
    "\n",
    "## for y in range(100, 400):\n",
    "##     for x in range(200, 300):\n",
    "##          img[y, x, 0] = 255   # B-채널을 255로 변경\n",
    "\n",
    "img[100:400, 200:300, 0] = 255 # B-채널을 255로 변경\n",
    "img[100:400, 300:400, 1] = 255 # G-채널을 255로 변경\n",
    "img[100:400, 400:500, 2] = 255 # R-채널을 255로 변경\n",
    "\n",
    "cv2.imshow('img', img)\n",
    "cv2.waitKey()\n",
    "cv2.destroyAllWindows()"
   ]
  }
 ],
 "metadata": {
  "kernelspec": {
   "display_name": "Python 3",
   "language": "python",
   "name": "python3"
  },
  "language_info": {
   "codemirror_mode": {
    "name": "ipython",
    "version": 3
   },
   "file_extension": ".py",
   "mimetype": "text/x-python",
   "name": "python",
   "nbconvert_exporter": "python",
   "pygments_lexer": "ipython3",
   "version": "3.7.6"
  }
 },
 "nbformat": 4,
 "nbformat_minor": 4
}
