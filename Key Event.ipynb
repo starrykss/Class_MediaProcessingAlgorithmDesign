{
 "cells": [
  {
   "cell_type": "markdown",
   "metadata": {},
   "source": [
    "# Key Event\n",
    "---"
   ]
  },
  {
   "cell_type": "code",
   "execution_count": 1,
   "metadata": {},
   "outputs": [],
   "source": [
    "import numpy as np\n",
    "import cv2"
   ]
  },
  {
   "cell_type": "code",
   "execution_count": 2,
   "metadata": {},
   "outputs": [
    {
     "data": {
      "text/plain": [
       "'\\nleft = 2\\nright = 0\\ndown = 1\\nup = 3\\n'"
      ]
     },
     "execution_count": 2,
     "metadata": {},
     "output_type": "execute_result"
    }
   ],
   "source": [
    "width, height = 512, 512\n",
    "x, y, R = 256, 256, 50\n",
    "direction = 0 # right\n",
    "\n",
    "# direction <- 0right, 1down, 2left, 3up\n",
    "\n",
    "'''\n",
    "left = 2\n",
    "right = 0\n",
    "down = 1\n",
    "up = 3\n",
    "'''"
   ]
  },
  {
   "cell_type": "code",
   "execution_count": 4,
   "metadata": {},
   "outputs": [],
   "source": [
    "while True:\n",
    "    key = cv2.waitKeyEx(30)\n",
    "    # print(key)\n",
    "    if key == 0x1B: # ESC\n",
    "        break;\n",
    "    # 방향키 방향 전환\n",
    "    elif key == 0x270000:  # right\n",
    "        direction = 0 # direction = right\n",
    "    elif key == 0x280000:  # down\n",
    "        direction = 1 # direction = down\n",
    "    elif key == 0x250000:  # left\n",
    "        direction = 2 # direction = left\n",
    "    elif key == 0x260000:  # up\n",
    "        direction = 3 # direction = up\n",
    "        \n",
    "    # 방향으로 이동\n",
    "    if direction == 0:     # right\n",
    "        x += 10\n",
    "    elif direction == 1:   # down\n",
    "        y += 10\n",
    "    elif direction == 2:   # left\n",
    "        x -= 10\n",
    "    else:                  # up\n",
    "        y -= 10\n",
    "    \n",
    "    # 경계 확인\n",
    "    if x < R:\n",
    "        x = R\n",
    "        direction = 0  # right\n",
    "    if x > width - R:\n",
    "        x = width - R\n",
    "        direction = 2  # left\n",
    "    if y < R:\n",
    "        y = R\n",
    "        direction = 1  # down\n",
    "    if y > height - R:\n",
    "        y = height - R\n",
    "        direction = 3\n",
    "        \n",
    "    # 지우고, 그리기\n",
    "    img = np.zeros((width, height, 3), np.uint8) + 255  # 지우기\n",
    "    cv2.circle(img, (x, y), R, (0, 0, 255), -1)\n",
    "    cv2.imshow('img', img)\n",
    "    \n",
    "cv2.destroyAllWindows()"
   ]
  }
 ],
 "metadata": {
  "kernelspec": {
   "display_name": "Python 3",
   "language": "python",
   "name": "python3"
  },
  "language_info": {
   "codemirror_mode": {
    "name": "ipython",
    "version": 3
   },
   "file_extension": ".py",
   "mimetype": "text/x-python",
   "name": "python",
   "nbconvert_exporter": "python",
   "pygments_lexer": "ipython3",
   "version": "3.7.6"
  }
 },
 "nbformat": 4,
 "nbformat_minor": 4
}
