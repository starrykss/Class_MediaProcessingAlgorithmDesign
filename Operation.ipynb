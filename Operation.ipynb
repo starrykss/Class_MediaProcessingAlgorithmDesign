{
 "cells": [
  {
   "cell_type": "markdown",
   "metadata": {},
   "source": [
    "# Operation"
   ]
  },
  {
   "cell_type": "code",
   "execution_count": 1,
   "metadata": {},
   "outputs": [],
   "source": [
    "import cv2\n",
    "import numpy as np"
   ]
  },
  {
   "cell_type": "code",
   "execution_count": 3,
   "metadata": {},
   "outputs": [],
   "source": [
    "src1 = cv2.imread('./data/lena.jpg', cv2.IMREAD_GRAYSCALE)\n",
    "src2 = np.zeros(shape=(512, 512), dtype=np.uint8) + 100\n",
    "\n",
    "dst1 = src1 + src2\n",
    "dst2 = cv2.add(src1, src2)\n",
    "# dst2 = cv2.add(src1, src2, dtype=cv2.CV_8U)\n",
    "\n",
    "cv2.imshow('dst1', dst1)\n",
    "cv2.imshow('dst2', dst2)   # overflow로 인하여 결과값이 다르게 나옴.\n",
    "cv2.waitKey()\n",
    "cv2.destroyAllWindows()"
   ]
  },
  {
   "cell_type": "code",
   "execution_count": 5,
   "metadata": {},
   "outputs": [],
   "source": [
    "src1 = cv2.imread('./data/lena.jpg')\n",
    "src2 = cv2.imread('./data/baboon.jpg')\n",
    "\n",
    "dst = cv2.addWeighted(src1, 0.5, src2, 0.5, 0)  # alpha : 0.5, beta : 0.5, gamma : 0\n",
    "cv2.imshow('dst', dst)\n",
    "cv2.waitKey()\n",
    "cv2.destroyAllWindows()"
   ]
  },
  {
   "cell_type": "code",
   "execution_count": 7,
   "metadata": {},
   "outputs": [],
   "source": [
    "src2 = cv2.imread('./data/opencv_logo.png')\n",
    "cv2.imshow('src2', src2)\n",
    "cv2.waitKey()\n",
    "cv2.destroyAllWindows()"
   ]
  },
  {
   "cell_type": "code",
   "execution_count": 14,
   "metadata": {},
   "outputs": [],
   "source": [
    "src1 = cv2.imread('./data/lena.jpg')\n",
    "src2 = cv2.imread('./data/opencv_logo.png')\n",
    "rows, cols, channels = src2.shape\n",
    "roi = src1[0:rows, 0:cols]\n",
    "\n",
    "gray = cv2.cvtColor(src2, cv2.COLOR_BGR2GRAY)\n",
    "ret, mask = cv2.threshold(gray, 160, 255, cv2.THRESH_BINARY) # gray 영상에서 160~255 사이의 값을 갖은 부분만 추출해서 binary 영상(흑백 영상)으로 만듦.\n",
    "mask_inv = cv2.bitwise_not(mask)\n",
    "src1_bg = cv2.bitwise_and(roi, roi, mask = mask) # ROI&ROI=ROI (mask에서 0이 아닌 부분만 AND)\n",
    "src2_fg = cv2.bitwise_and(src2, src2, mask = mask_inv)\n",
    "dst = cv2.bitwise_or(src1_bg, src2_fg)\n",
    "\n",
    "cv2.imshow('mask', mask)\n",
    "cv2.imshow('mask_inv', mask_inv)\n",
    "cv2.imshow('src1_bg', src1_bg)\n",
    "cv2.imshow('src2_fg', src2_fg)\n",
    "cv2.imshow('dst', dst)\n",
    "\n",
    "cv2.waitKey()\n",
    "cv2.destroyAllWindows()"
   ]
  },
  {
   "cell_type": "code",
   "execution_count": 17,
   "metadata": {},
   "outputs": [
    {
     "name": "stdout",
     "output_type": "stream",
     "text": [
      "n = 0\n"
     ]
    }
   ],
   "source": [
    "src1 = cv2.imread('./data/lena.jpg', cv2.IMREAD_GRAYSCALE)\n",
    "src2 = np.zeros(shape=(512, 512), dtype=np.uint8) + 255 # 흰색 이미지\n",
    "\n",
    "dst1 = 255 - src1  # inverse\n",
    "dst2 = cv2.subtract(src2, src1)\n",
    "dst3 = cv2.compare(dst1, dst2, cv2.CMP_NE) # cv2.CMP_EQ\n",
    "n    = cv2.countNonZero(dst3)\n",
    "print('n =', n)\n",
    "\n",
    "cv2.imshow('dst1', dst1)\n",
    "cv2.imshow('dst2', dst2)\n",
    "cv2.imshow('dst3', dst3)\n",
    "\n",
    "cv2.waitKey()\n",
    "cv2.destroyAllWindows()"
   ]
  }
 ],
 "metadata": {
  "kernelspec": {
   "display_name": "Python 3",
   "language": "python",
   "name": "python3"
  },
  "language_info": {
   "codemirror_mode": {
    "name": "ipython",
    "version": 3
   },
   "file_extension": ".py",
   "mimetype": "text/x-python",
   "name": "python",
   "nbconvert_exporter": "python",
   "pygments_lexer": "ipython3",
   "version": "3.7.6"
  }
 },
 "nbformat": 4,
 "nbformat_minor": 4
}
