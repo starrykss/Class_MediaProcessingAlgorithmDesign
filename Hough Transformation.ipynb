{
 "cells": [
  {
   "cell_type": "markdown",
   "metadata": {},
   "source": [
    "# Hough Transformation"
   ]
  },
  {
   "cell_type": "code",
   "execution_count": 1,
   "metadata": {},
   "outputs": [],
   "source": [
    "import cv2\n",
    "import numpy as np\n",
    "import imutils"
   ]
  },
  {
   "cell_type": "code",
   "execution_count": 3,
   "metadata": {},
   "outputs": [
    {
     "name": "stdout",
     "output_type": "stream",
     "text": [
      "lines.shape= (4, 1, 2)\n"
     ]
    }
   ],
   "source": [
    "src = cv2.imread('./data/rect.jpg')\n",
    "\n",
    "gray = cv2.cvtColor(src, cv2.COLOR_BGR2GRAY)\n",
    "edges = cv2.Canny(gray, 50, 100)\n",
    "lines = cv2.HoughLines(edges, rho=1, theta=np.pi/180.0, threshold=100)\n",
    "print('lines.shape=', lines.shape) # (line 개수), (row), (theta)\n",
    "\n",
    "for line in lines:\n",
    "    rho, theta = line[0]\n",
    "    c = np.cos(theta)\n",
    "    s = np.sin(theta)\n",
    "    x0 = c*rho\n",
    "    y0 = s*rho\n",
    "    x1 = int(x0 - 1000*(s))\n",
    "    y1 = int(y0 - 1000*(c))\n",
    "    x2 = int(x0 + 1000*(s))\n",
    "    y2 = int(y0 + 1000*(c))\n",
    "    cv2.line(src, (x1, y1), (x2, y2), (0, 0, 255), 2)\n",
    "    \n",
    "cv2.imshow('src', src)\n",
    "cv2.imshow('edges', edges)\n",
    "\n",
    "cv2.waitKey()\n",
    "cv2.destroyAllWindows()"
   ]
  },
  {
   "cell_type": "code",
   "execution_count": 4,
   "metadata": {},
   "outputs": [
    {
     "name": "stdout",
     "output_type": "stream",
     "text": [
      "lines.shape= (4, 1, 4)\n"
     ]
    }
   ],
   "source": [
    "src = cv2.imread('./data/rect.jpg')\n",
    "\n",
    "gray = cv2.cvtColor(src, cv2.COLOR_BGR2GRAY)\n",
    "edges = cv2.Canny(gray, 50, 100)\n",
    "lines = cv2.HoughLinesP(edges, rho=1, theta=np.pi/180.0, threshold=100)\n",
    "print('lines.shape=', lines.shape)\n",
    "\n",
    "for line in lines:\n",
    "    x1, y1, x2, y2 = line[0]\n",
    "    cv2.line(src, (x1, y1), (x2, y2), (0, 0, 255), 2)\n",
    "\n",
    "cv2.imshow('src', src)\n",
    "cv2.imshow('edges', edges)\n",
    "cv2.waitKey()\n",
    "cv2.destroyAllWindows()"
   ]
  },
  {
   "cell_type": "code",
   "execution_count": 8,
   "metadata": {},
   "outputs": [
    {
     "name": "stdout",
     "output_type": "stream",
     "text": [
      "circles1.shape= (1, 3, 3)\n",
      "circles2.shape= (1, 6, 3)\n"
     ]
    }
   ],
   "source": [
    "#1\n",
    "src1 = cv2.imread('./data/circles.jpg')\n",
    "\n",
    "gray1 = cv2.cvtColor(src1, cv2.COLOR_BGR2GRAY)\n",
    "circles1 = cv2.HoughCircles(gray1, method = cv2.HOUGH_GRADIENT, \n",
    "                            dp=1, minDist=50, param2=15)\n",
    "print('circles1.shape=', circles1.shape)\n",
    "\n",
    "for circle in circles1[0, :]:\n",
    "    cx, cy, r = circle\n",
    "    cv2.circle(src1, (cx, cy), r, (0, 0, 255), 2)\n",
    "    \n",
    "#2\n",
    "src2 = cv2.imread('./data/circles2.jpg')\n",
    "\n",
    "gray2 = cv2.cvtColor(src2, cv2.COLOR_BGR2GRAY)\n",
    "circles2 = cv2.HoughCircles(gray2, method = cv2.HOUGH_GRADIENT, \n",
    "                            dp=1, minDist=50, param2=15,\n",
    "                           minRadius=30, maxRadius=100)\n",
    "print('circles2.shape=', circles2.shape)\n",
    "\n",
    "for circle in circles2[0, :]:\n",
    "    cx, cy, r = circle\n",
    "    cv2.circle(src2, (cx, cy), r, (0, 0, 255), 2)\n",
    "    \n",
    "cv2.imshow('src1', src1)\n",
    "cv2.imshow('src2', src2)\n",
    "cv2.waitKey()\n",
    "cv2.destroyAllWindows()"
   ]
  }
 ],
 "metadata": {
  "kernelspec": {
   "display_name": "Python 3",
   "language": "python",
   "name": "python3"
  },
  "language_info": {
   "codemirror_mode": {
    "name": "ipython",
    "version": 3
   },
   "file_extension": ".py",
   "mimetype": "text/x-python",
   "name": "python",
   "nbconvert_exporter": "python",
   "pygments_lexer": "ipython3",
   "version": "3.7.6"
  }
 },
 "nbformat": 4,
 "nbformat_minor": 4
}
