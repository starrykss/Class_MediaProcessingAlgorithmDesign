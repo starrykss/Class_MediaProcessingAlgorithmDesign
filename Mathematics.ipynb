{
 "cells": [
  {
   "cell_type": "markdown",
   "metadata": {},
   "source": [
    "# Mathematics"
   ]
  },
  {
   "cell_type": "code",
   "execution_count": 1,
   "metadata": {},
   "outputs": [],
   "source": [
    "import cv2\n",
    "import numpy as np"
   ]
  },
  {
   "cell_type": "code",
   "execution_count": 3,
   "metadata": {},
   "outputs": [
    {
     "name": "stdout",
     "output_type": "stream",
     "text": [
      "src:  18.0 248.0 (265, 198) (116, 273)\n",
      "dst:  100.0 200.0 (265, 198) (116, 273)\n"
     ]
    }
   ],
   "source": [
    "src = cv2.imread('./data/lena.jpg', cv2.IMREAD_GRAYSCALE)\n",
    "\n",
    "minVal, maxVal, minLoc, maxLoc = cv2.minMaxLoc(src) # Loc : Location\n",
    "print('src: ', minVal, maxVal, minLoc, maxLoc)\n",
    "\n",
    "dst = cv2.normalize(src, None, 100, 200, cv2.NORM_MINMAX) # 밝기 : 100~200 사이로\n",
    "minVal, maxVal, minLoc, maxLoc = cv2.minMaxLoc(dst)\n",
    "print('dst: ', minVal, maxVal, minLoc, maxLoc)\n",
    "\n",
    "cv2.imshow('src', src)\n",
    "cv2.imshow('dst', dst)\n",
    "cv2.waitKey()\n",
    "cv2.destroyAllWindows()"
   ]
  },
  {
   "cell_type": "code",
   "execution_count": 9,
   "metadata": {},
   "outputs": [],
   "source": [
    "import time\n",
    "dst = np.full((512, 512, 3), (255, 255, 255), dtype=np.uint8)\n",
    "nPoints = 100\n",
    "pts = np.zeros((1, nPoints, 2), dtype=np.uint16)\n",
    "\n",
    "cv2.setRNGSeed(int(time.time())) # setRNGSeed() : 시드를 변경하는 함수\n",
    "cv2.randu(pts, (0, 0), (512, 512))\n",
    "\n",
    "# draw points\n",
    "for k in range(nPoints):\n",
    "    x, y = pts[0, k][:] # pts[0, k, :]\n",
    "    cv2.circle(dst, (x, y), radius=5, color=(0, 0, 255), thickness=-1)\n",
    "    \n",
    "cv2.imshow('dst', dst)\n",
    "cv2.waitKey()\n",
    "cv2.destroyAllWindows()"
   ]
  },
  {
   "cell_type": "code",
   "execution_count": 14,
   "metadata": {},
   "outputs": [],
   "source": [
    "dst = np.full((512, 512, 3), (255, 255, 255), dtype=np.uint8)\n",
    "nPoints = 100\n",
    "pts = np.zeros((1, nPoints, 2), dtype=np.uint16)\n",
    "\n",
    "cv2.setRNGSeed(int(time.time()))\n",
    "cv2.randn(pts, mean=(256, 256), stddev=(50, 50))\n",
    "\n",
    "# draw points\n",
    "for k in range(nPoints):\n",
    "    x, y = pts[0][k, :]  # pts[0, k, :]\n",
    "    cv2.circle(dst, (x, y), radius=5, color=(0, 0, 255), thickness=-1)\n",
    "    \n",
    "cv2.imshow('dst', dst)\n",
    "cv2.waitKey()\n",
    "cv2.destroyAllWindows()"
   ]
  }
 ],
 "metadata": {
  "kernelspec": {
   "display_name": "Python 3",
   "language": "python",
   "name": "python3"
  },
  "language_info": {
   "codemirror_mode": {
    "name": "ipython",
    "version": 3
   },
   "file_extension": ".py",
   "mimetype": "text/x-python",
   "name": "python",
   "nbconvert_exporter": "python",
   "pygments_lexer": "ipython3",
   "version": "3.7.6"
  }
 },
 "nbformat": 4,
 "nbformat_minor": 4
}
