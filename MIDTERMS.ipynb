{
 "cells": [
  {
   "cell_type": "markdown",
   "metadata": {},
   "source": [
    "# 미디어처리알고리즘설계 중간고사\n",
    "---"
   ]
  },
  {
   "cell_type": "markdown",
   "metadata": {},
   "source": [
    "## 1. data/vtest.avi 동영상을 로딩하고 이 동영상을 플레이 하는 윈도우와 gray 영상으로 플레이 하는 윈도우를 생성하여 동시에 띄워라"
   ]
  },
  {
   "cell_type": "code",
   "execution_count": null,
   "metadata": {},
   "outputs": [],
   "source": [
    "import cv2"
   ]
  },
  {
   "cell_type": "code",
   "execution_count": null,
   "metadata": {},
   "outputs": [],
   "source": [
    "cap = cv2.VideoCapture('./data/vtest.avi')\n",
    "# gray = cv2.cvtColor(cap, cv2.COLOR_BGR2GRAY)\n",
    "frame_size = (int(cap.get(cv2.CAP_PROP_FRAME_WIDTH)), int(cap.get(cv2.CAP_PROP_FRAME_HEIGHT)))\n",
    "print('frame_size =', frame_size)\n",
    "\n",
    "while True:\n",
    "    retval, frame = cap.read()   # 프레임 캡쳐\n",
    "    gray = cv2.cvtColor(frame, cv2.COLOR_BGR2GRAY)  # 그레이 영상으로 변환\n",
    "    if not retval:\n",
    "        break\n",
    "        \n",
    "    cv2.imshow('original', frame)\n",
    "    cv2.imshow('gray', gray)\n",
    "    \n",
    "    key = cv2.waitKey(25)\n",
    "    if key == 27:  # ESC\n",
    "        break\n",
    "        \n",
    "if cap.isOpened():\n",
    "    cap.release()\n",
    "    \n",
    "cv2.destroyAllWindows()"
   ]
  },
  {
   "cell_type": "markdown",
   "metadata": {},
   "source": [
    "## 2. data/baboon.jpg 파일을 gray로 로딩하고 마우스로 ROI를 설정하면 ROI로 설정 된 영역이 다른 윈도우에 출력이 되도록 하되 이 새로운 윈도우에 밝기값을 조절할 수 있는 트랙바를 생성하라. (트랙바의 범위는 0 ~ 100 이고, 출력되는 밝기 값은 (트랙바 값/100)*원 밝기값 으로 하라.)"
   ]
  },
  {
   "cell_type": "code",
   "execution_count": 24,
   "metadata": {},
   "outputs": [],
   "source": [
    "import cv2\n",
    "import numpy as np"
   ]
  },
  {
   "cell_type": "code",
   "execution_count": 31,
   "metadata": {},
   "outputs": [],
   "source": [
    "def onChange(pos):  # 트랙바 핸들러\n",
    "    n = cv2.getTrackbarPos('alpha', 'si')\n",
    "    alpha = n / 100\n",
    "    ci = np.uint8(si * (1 + alpha))\n",
    "\n",
    "    cv2.imshow('si', ci)"
   ]
  },
  {
   "cell_type": "code",
   "execution_count": 32,
   "metadata": {},
   "outputs": [
    {
     "name": "stdout",
     "output_type": "stream",
     "text": [
      "ROI =  (112, 71, 302, 309)\n"
     ]
    }
   ],
   "source": [
    "src = cv2.imread('./data/baboon.jpg', cv2.IMREAD_GRAYSCALE) # grayscale로 이미지 로딩\n",
    "\n",
    "roi = cv2.selectROI(src) # 마우스로 ROI 설정\n",
    "print('ROI = ', roi)\n",
    "image = src[roi[1]:roi[1]+roi[3], roi[0]:roi[0]+roi[2]]\n",
    "\n",
    "si = image.copy()\n",
    "\n",
    "cv2.imshow('si', si)\n",
    "cv2.createTrackbar('alpha', 'si', 0, 100, onChange)\n",
    "\n",
    "cv2.waitKey()\n",
    "cv2.destroyAllWindows()"
   ]
  }
 ],
 "metadata": {
  "kernelspec": {
   "display_name": "Python 3",
   "language": "python",
   "name": "python3"
  },
  "language_info": {
   "codemirror_mode": {
    "name": "ipython",
    "version": 3
   },
   "file_extension": ".py",
   "mimetype": "text/x-python",
   "name": "python",
   "nbconvert_exporter": "python",
   "pygments_lexer": "ipython3",
   "version": "3.7.6"
  }
 },
 "nbformat": 4,
 "nbformat_minor": 4
}
