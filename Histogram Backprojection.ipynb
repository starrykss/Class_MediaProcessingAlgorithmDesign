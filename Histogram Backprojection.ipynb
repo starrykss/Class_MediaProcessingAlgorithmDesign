{
 "cells": [
  {
   "cell_type": "markdown",
   "metadata": {},
   "source": [
    "# Histogram Backprojection"
   ]
  },
  {
   "cell_type": "code",
   "execution_count": 1,
   "metadata": {},
   "outputs": [],
   "source": [
    "import cv2\n",
    "import numpy as np"
   ]
  },
  {
   "cell_type": "code",
   "execution_count": 2,
   "metadata": {},
   "outputs": [
    {
     "name": "stdout",
     "output_type": "stream",
     "text": [
      "hist = [[9.]\n",
      " [3.]\n",
      " [2.]\n",
      " [2.]]\n",
      "backP =  [[9 9 9 9]\n",
      " [9 9 3 2]\n",
      " [2 9 9 3]\n",
      " [2 3 9 2]]\n"
     ]
    }
   ],
   "source": [
    "src = np.array([[0, 0, 0, 0],\n",
    "                [1, 1, 3, 5],\n",
    "                [6, 1, 1, 3],\n",
    "                [4, 3, 1, 7]\n",
    "                ], dtype=np.uint8)\n",
    "\n",
    "hist = cv2.calcHist(images=[src], channels=[0], mask=None,\n",
    "                   histSize=[4], ranges=[0, 8])\n",
    "\n",
    "print('hist =', hist)\n",
    "\n",
    "backP = cv2.calcBackProject([src], [0], hist, [0, 8], scale=1) # 역투영화\n",
    "print('backP = ', backP)"
   ]
  },
  {
   "cell_type": "code",
   "execution_count": 8,
   "metadata": {},
   "outputs": [
    {
     "name": "stdout",
     "output_type": "stream",
     "text": [
      "roi = (396, 164, 72, 73)\n",
      "T = 744.0\n"
     ]
    }
   ],
   "source": [
    "#1\n",
    "src = cv2.imread('./data/fruits.jpg')\n",
    "hsv = cv2.cvtColor(src, cv2.COLOR_BGR2HSV)\n",
    "h, s, v = cv2.split(hsv)\n",
    "\n",
    "#2\n",
    "roi = cv2.selectROI(src)\n",
    "print('roi =', roi)\n",
    "roi_h = h[roi[1]:roi[1]+roi[3], roi[0]:roi[0]+roi[2]]\n",
    "hist = cv2.calcHist([roi_h], [0], None, [64], [0, 256])\n",
    "backP = cv2.calcBackProject([h.astype(np.float32)], [0], hist, [0, 256], scale=1.0)\n",
    "## minVal, maxVal, minLoc, maxLoc = cv2.minMaxLoc(backP)\n",
    "## T = maxVal - 1 # threshold\n",
    "\n",
    "#3\n",
    "hist = cv2.sort(hist, cv2.SORT_EVERY_COLUMN+cv2.SORT_DESCENDING)\n",
    "k = 1 # tight 하게 만드려면 0으로 설정\n",
    "T = hist[k][0] - 1 # threshold\n",
    "print('T =', T)\n",
    "ret, dst = cv2.threshold(backP, T, 255, cv2.THRESH_BINARY)\n",
    "\n",
    "cv2.imshow('dst', dst)\n",
    "cv2.waitKey()\n",
    "cv2.destroyAllWindows()"
   ]
  }
 ],
 "metadata": {
  "kernelspec": {
   "display_name": "Python 3",
   "language": "python",
   "name": "python3"
  },
  "language_info": {
   "codemirror_mode": {
    "name": "ipython",
    "version": 3
   },
   "file_extension": ".py",
   "mimetype": "text/x-python",
   "name": "python",
   "nbconvert_exporter": "python",
   "pygments_lexer": "ipython3",
   "version": "3.7.6"
  }
 },
 "nbformat": 4,
 "nbformat_minor": 4
}
