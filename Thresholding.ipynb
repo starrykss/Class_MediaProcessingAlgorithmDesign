{
 "cells": [
  {
   "cell_type": "markdown",
   "metadata": {},
   "source": [
    "# Thresholding"
   ]
  },
  {
   "cell_type": "code",
   "execution_count": 1,
   "metadata": {},
   "outputs": [],
   "source": [
    "import cv2\n",
    "import numpy as np"
   ]
  },
  {
   "cell_type": "code",
   "execution_count": 9,
   "metadata": {},
   "outputs": [
    {
     "name": "stdout",
     "output_type": "stream",
     "text": [
      "ret= 120.0\n"
     ]
    }
   ],
   "source": [
    "src = cv2.imread('./data/heart10.jpg', cv2.IMREAD_GRAYSCALE)\n",
    "ret, dst = cv2.threshold(src, 120, 255, cv2.THRESH_BINARY) # 120보다 큰 값은 255로 바꾸고 나머지는 0으로 변환\n",
    "print('ret=', ret)\n",
    "\n",
    "cv2.imshow('src', src)\n",
    "cv2.imshow('dst', dst)\n",
    "cv2.waitKey()\n",
    "cv2.destroyAllWindows()"
   ]
  },
  {
   "cell_type": "code",
   "execution_count": 10,
   "metadata": {},
   "outputs": [
    {
     "name": "stdout",
     "output_type": "stream",
     "text": [
      "threshold= 175.0\n"
     ]
    }
   ],
   "source": [
    "# THRESH_OTSU 함수를 사용할 경우, threshold 값 200은 무의미하다. (OTSU 함수가 자동으로 설정하므로)\n",
    "ret2, dst2 = cv2.threshold(src, 200, 255, cv2.THRESH_BINARY+cv2.THRESH_OTSU) \n",
    "print('threshold=', ret2)\n",
    "\n",
    "cv2.imshow('dst2', dst2)\n",
    "cv2.waitKey()\n",
    "cv2.destroyAllWindows()"
   ]
  },
  {
   "cell_type": "code",
   "execution_count": 11,
   "metadata": {},
   "outputs": [
    {
     "name": "stdout",
     "output_type": "stream",
     "text": [
      "threshold= 149.0\n"
     ]
    }
   ],
   "source": [
    "src2 = cv2.imread('./data/srcThreshold.png', cv2.IMREAD_GRAYSCALE)\n",
    "\n",
    "ret3, dst3 = cv2.threshold(src2, 128, 255, cv2.THRESH_BINARY)\n",
    "ret4, dst4 = cv2.threshold(src2, 0, 255, cv2.THRESH_BINARY+cv2.THRESH_OTSU)\n",
    "print('threshold=', ret4)\n",
    "dst5 = cv2.adaptiveThreshold(src2, 255, cv2.ADAPTIVE_THRESH_MEAN_C, cv2.THRESH_BINARY, 51, 7) # 51 : MEAN 함수의 C 값, 7 : 구간의 크기(7x7)\n",
    "dst6 = cv2.adaptiveThreshold(src2, 255, cv2.ADAPTIVE_THRESH_GAUSSIAN_C, cv2.THRESH_BINARY, 51, 7)\n",
    "\n",
    "cv2.imshow('src2', src2)\n",
    "cv2.imshow('dst3', dst3)\n",
    "cv2.imshow('dst4', dst4)\n",
    "cv2.imshow('dst5', dst5)\n",
    "cv2.imshow('dst6', dst6)\n",
    "cv2.waitKey()\n",
    "cv2.destroyAllWindows()"
   ]
  }
 ],
 "metadata": {
  "kernelspec": {
   "display_name": "Python 3",
   "language": "python",
   "name": "python3"
  },
  "language_info": {
   "codemirror_mode": {
    "name": "ipython",
    "version": 3
   },
   "file_extension": ".py",
   "mimetype": "text/x-python",
   "name": "python",
   "nbconvert_exporter": "python",
   "pygments_lexer": "ipython3",
   "version": "3.7.6"
  }
 },
 "nbformat": 4,
 "nbformat_minor": 4
}
