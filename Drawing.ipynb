{
 "cells": [
  {
   "cell_type": "markdown",
   "metadata": {},
   "source": [
    "# Drawing"
   ]
  },
  {
   "cell_type": "markdown",
   "metadata": {},
   "source": [
    "---"
   ]
  },
  {
   "cell_type": "markdown",
   "metadata": {},
   "source": [
    "# 1. Line, Rectangle Drawing"
   ]
  },
  {
   "cell_type": "code",
   "execution_count": 5,
   "metadata": {},
   "outputs": [],
   "source": [
    "import cv2\n",
    "import numpy as np\n",
    "\n",
    "# White 배경 생성\n",
    "img = np.zeros(shape = (512, 512, 3), dtype = np.uint8) + 255\n",
    "# img = np.ones((512, 512, 3), np.uint8) + 255\n",
    "# img = np.full((512, 512, 3), (255, 255, 255), dtype = np.uint8)\n",
    "# img = np.zeros((512, 512, 3), np.uint8)  # Black 배경\n",
    "pt1 = 100, 100\n",
    "pt2 = 400, 400\n",
    "cv2.rectangle(img, pt1, pt2, (0, 255, 0), 2)\n",
    "\n",
    "cv2.line(img, (0, 0), (500, 0), (255, 0, 0), 5)\n",
    "cv2.line(img, (0, 0), (0, 500), (0, 0, 255), 5)\n",
    "\n",
    "cv2.imshow('img', img)\n",
    "cv2.waitKey()\n",
    "cv2.destroyAllWindows()"
   ]
  },
  {
   "cell_type": "markdown",
   "metadata": {},
   "source": [
    "# 2.Cross Point"
   ]
  },
  {
   "cell_type": "code",
   "execution_count": 12,
   "metadata": {},
   "outputs": [],
   "source": [
    "img = np.zeros(shape = (512, 512, 3), dtype = np.uint8) + 255\n",
    "\n",
    "x1, x2 = 100, 400\n",
    "y1, y2 = 100, 400\n",
    "cv2.rectangle(img, (x1, y1), (x2, y2), (0, 0, 255))\n",
    "\n",
    "pt1 = 120, 50\n",
    "pt2 = 300, 500\n",
    "cv2.line(img, pt1, pt2, (255, 0, 0), 2)\n",
    "\n",
    "imgRect = (x1, y1, x2 - x1, y2 - y1)\n",
    "retval, rpt1, rpt2 = cv2.clipLine(imgRect, pt1, pt2)\n",
    "if retval:\n",
    "    cv2.circle(img, rpt1, radius = 5, color = (0, 255, 0), thickness = -1)  # -1 : 원을 채우기\n",
    "    cv2.circle(img, rpt2, radius = 5, color = (0, 255, 0), thickness = -1)\n",
    "    \n",
    "cv2.imshow('img', img)\n",
    "cv2.waitKey()\n",
    "cv2.destroyAllWindows()"
   ]
  },
  {
   "cell_type": "markdown",
   "metadata": {},
   "source": [
    "# 3. Circle Drawing"
   ]
  },
  {
   "cell_type": "code",
   "execution_count": 14,
   "metadata": {},
   "outputs": [],
   "source": [
    "img = np.zeros(shape = (512, 512, 3), dtype = np.uint8) + 255\n",
    "cx = img.shape[0] // 2\n",
    "cy = img.shape[1] // 2\n",
    "\n",
    "for r in range(200, 0, -100):\n",
    "    cv2.circle(img, (cx, cy), r, color = (255, 0, 0))\n",
    "    \n",
    "cv2.circle(img, (cx, cy), radius = 50, color = (0, 0, 255), thickness = -1)\n",
    "\n",
    "cv2.imshow('img', img)\n",
    "cv2.waitKey()\n",
    "cv2.destroyAllWindows()"
   ]
  },
  {
   "cell_type": "markdown",
   "metadata": {},
   "source": [
    "# 4. Ellipse Drawing"
   ]
  },
  {
   "cell_type": "code",
   "execution_count": 17,
   "metadata": {},
   "outputs": [],
   "source": [
    "img = np.zeros(shape = (512, 512, 3), dtype = np.uint8) + 255\n",
    "ptCenter = img.shape[0] // 2, img.shape[1] // 2\n",
    "size = 200, 100\n",
    "\n",
    "cv2.ellipse(img, ptCenter, size, 0, 0, 360, (255, 0, 0))\n",
    "cv2.ellipse(img, ptCenter, size, 45, 9, 360, (0, 0, 255))\n",
    "\n",
    "box = (ptCenter, size, 0)\n",
    "cv2.ellipse(img, box, (255, 0, 0), 5)\n",
    "\n",
    "box = (ptCenter, size, 45)\n",
    "cv2.ellipse(img, box, (0, 0, 255), 5)\n",
    "\n",
    "cv2.imshow('img', img)\n",
    "cv2.waitKey()\n",
    "cv2.destroyAllWindows()"
   ]
  },
  {
   "cell_type": "markdown",
   "metadata": {},
   "source": [
    "# 5. Polyline Drawing - 1"
   ]
  },
  {
   "cell_type": "code",
   "execution_count": 20,
   "metadata": {},
   "outputs": [],
   "source": [
    "img = np.zeros(shape = (512, 512, 3), dtype = np.uint8) + 255\n",
    "\n",
    "pts1 = np.array([[100, 100], [200, 100], [200, 200], [100, 200]])\n",
    "pts2 = np.array([[300, 200], [400, 100], [400, 200]])\n",
    "\n",
    "cv2.polylines(img, [pts1, pts2], isClosed = True, color = (255, 0, 0))\n",
    "\n",
    "cv2.imshow('img', img)\n",
    "cv2.waitKey()\n",
    "cv2.destroyAllWindows()"
   ]
  },
  {
   "cell_type": "markdown",
   "metadata": {},
   "source": [
    "# 6. Polyline Drawing - 2"
   ]
  },
  {
   "cell_type": "code",
   "execution_count": 22,
   "metadata": {},
   "outputs": [],
   "source": [
    "img = np.zeros(shape = (512, 512, 3), dtype = np.uint8) + 255\n",
    "\n",
    "ptCenter = img.shape[0] // 2, img.shape[1] // 2\n",
    "size = 200, 100\n",
    "\n",
    "cv2.ellipse(img, ptCenter, size, 0, 0, 360, (255, 0, 0))\n",
    "pts1 = cv2.ellipse2Poly(ptCenter, size, 0, 0, 360, delta = 45)\n",
    "\n",
    "cv2.ellipse(img, ptCenter, size, 45, 0, 360, (255, 0, 0))\n",
    "pts2 = cv2.ellipse2Poly(ptCenter, size, 45, 0, 360, delta = 45)\n",
    "\n",
    "cv2.polylines(img, [pts1, pts2], isClosed = True, color = (0, 0, 255))\n",
    "\n",
    "cv2.imshow('img', img)\n",
    "cv2.waitKey()\n",
    "cv2.destroyAllWindows()"
   ]
  },
  {
   "cell_type": "markdown",
   "metadata": {},
   "source": [
    "# 7. Rotated Rectangle"
   ]
  },
  {
   "cell_type": "code",
   "execution_count": 25,
   "metadata": {},
   "outputs": [],
   "source": [
    "img = np.zeros(shape = (512, 512, 3), dtype = np.uint8) + 255\n",
    "\n",
    "x, y = 256, 256\n",
    "size = 200\n",
    "\n",
    "for angle in range(0, 90, 10):\n",
    "    rect = ((256, 256), (size, size), angle)\n",
    "    box = cv2.boxPoints(rect).astype(np.int32)\n",
    "    r = np.random.randint(256)\n",
    "    g = np.random.randint(256)\n",
    "    b = np.random.randint(256)\n",
    "    cv2.polylines(img, [box], True, (r, g, b), 2)\n",
    "    \n",
    "cv2.imshow('img', img)\n",
    "cv2.waitKey()\n",
    "cv2.destroyAllWindows()"
   ]
  },
  {
   "cell_type": "markdown",
   "metadata": {},
   "source": [
    "# 8. Polygon Drawing - 1"
   ]
  },
  {
   "cell_type": "code",
   "execution_count": 31,
   "metadata": {},
   "outputs": [],
   "source": [
    "img = np.zeros(shape = (512, 512, 3), dtype = np.uint8) + 255\n",
    "\n",
    "pts1 = np.array([[100, 100], [200, 100], [200, 200], [100, 200]])\n",
    "pts2 = np.array([[300, 200], [400, 100], [400, 200]])\n",
    "\n",
    "cv2.fillConvexPoly(img, pts1, color = (255, 0, 0))\n",
    "cv2.fillPoly(img, [pts2], color = (0, 0, 255))\n",
    "# cv2.fillPoly(img, [pts1, pts2], color = (0, 0, 255))\n",
    "\n",
    "cv2.imshow('img', img)\n",
    "cv2.waitKey()\n",
    "cv2.destroyAllWindows()"
   ]
  },
  {
   "cell_type": "markdown",
   "metadata": {},
   "source": [
    "# 9. Polygon Drawing - 2"
   ]
  },
  {
   "cell_type": "code",
   "execution_count": 29,
   "metadata": {},
   "outputs": [],
   "source": [
    "b = (255, 0, 0)\n",
    "g = (0, 255, 0)\n",
    "r = (0, 0, 255)\n",
    "w = (255, 255, 255)\n",
    "\n",
    "img1 = np.zeros((400, 400, 3), np.uint8)\n",
    "img2 = np.zeros((400, 400, 3), np.uint8)\n",
    "pt1 = np.array([[100, 100], [270, 110], [300, 330], [170, 170], [150, 250]], np.int32)\n",
    "\n",
    "cv2.fillConvexPoly(img1, pt1, g)\n",
    "cv2.fillPoly(img2, [pt1], r)\n",
    "\n",
    "cv2.imshow('convex', img1)\n",
    "cv2.imshow('poly', img2)\n",
    "\n",
    "cv2.waitKey()\n",
    "cv2.destroyAllWindows()"
   ]
  },
  {
   "cell_type": "markdown",
   "metadata": {},
   "source": [
    "# 10. Textout"
   ]
  },
  {
   "cell_type": "code",
   "execution_count": 33,
   "metadata": {},
   "outputs": [],
   "source": [
    "img = np.zeros(shape = (512, 512, 3), dtype = np.uint8) + 255\n",
    "text = 'OpenCV Programming'\n",
    "org = (50, 100)\n",
    "font = cv2.FONT_HERSHEY_SIMPLEX\n",
    "cv2.putText(img, text, org, font, 1, (255, 0, 0), 2)\n",
    "\n",
    "size, baseLine = cv2.getTextSize(text, font, 1, 2)\n",
    "# print('size=', size)\n",
    "# print('baseLine=', baseLine)\n",
    "cv2.rectangle(img, org, (org[0] + size[0], org[1] - size[1]), (0, 0, 255))\n",
    "cv2.circle(img, org, 3, (0, 255, 0), 2)\n",
    "\n",
    "cv2.imshow('img', img)\n",
    "cv2.waitKey()\n",
    "cv2.destroyAllWindows()"
   ]
  }
 ],
 "metadata": {
  "kernelspec": {
   "display_name": "Python 3",
   "language": "python",
   "name": "python3"
  },
  "language_info": {
   "codemirror_mode": {
    "name": "ipython",
    "version": 3
   },
   "file_extension": ".py",
   "mimetype": "text/x-python",
   "name": "python",
   "nbconvert_exporter": "python",
   "pygments_lexer": "ipython3",
   "version": "3.7.6"
  }
 },
 "nbformat": 4,
 "nbformat_minor": 4
}
