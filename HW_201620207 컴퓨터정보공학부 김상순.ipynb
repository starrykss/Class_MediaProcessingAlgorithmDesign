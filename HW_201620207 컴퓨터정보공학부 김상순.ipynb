{
 "cells": [
  {
   "cell_type": "markdown",
   "metadata": {},
   "source": [
    "# 과제\n",
    "### 201620207 컴퓨터정보공학부 김상순\n",
    "---"
   ]
  },
  {
   "cell_type": "code",
   "execution_count": 1,
   "metadata": {},
   "outputs": [],
   "source": [
    "import cv2\n",
    "import numpy as np"
   ]
  },
  {
   "cell_type": "code",
   "execution_count": 17,
   "metadata": {},
   "outputs": [],
   "source": [
    "src = cv2.imread('./data/opencv_logo.png')\n",
    "hsv = cv2.cvtColor(src, cv2.COLOR_BGR2HSV) # BGR->HSV\n",
    "\n",
    "h, s, v = cv2.split(hsv)\n",
    "\n",
    "# 명도 조절 : 0 ~ 255\n",
    "v.fill(100) \n",
    "\n",
    "mrg = cv2.merge([h, s, v])\n",
    "dst = cv2.cvtColor(mrg, cv2.COLOR_HSV2BGR) # HSV -> BGR\n",
    "\n",
    "cv2.imshow('image', src)  # 원본 이미지 출력\n",
    "cv2.imshow('dst', dst)    # 변경된 이미지 출력\n",
    "cv2.waitKey()\n",
    "cv2.destroyAllWindows()"
   ]
  }
 ],
 "metadata": {
  "kernelspec": {
   "display_name": "Python 3",
   "language": "python",
   "name": "python3"
  },
  "language_info": {
   "codemirror_mode": {
    "name": "ipython",
    "version": 3
   },
   "file_extension": ".py",
   "mimetype": "text/x-python",
   "name": "python",
   "nbconvert_exporter": "python",
   "pygments_lexer": "ipython3",
   "version": "3.7.6"
  }
 },
 "nbformat": 4,
 "nbformat_minor": 4
}
