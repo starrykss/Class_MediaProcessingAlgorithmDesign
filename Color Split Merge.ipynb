{
 "cells": [
  {
   "cell_type": "markdown",
   "metadata": {},
   "source": [
    "# Color Split Merge\n",
    "---"
   ]
  },
  {
   "cell_type": "code",
   "execution_count": 1,
   "metadata": {},
   "outputs": [],
   "source": [
    "import cv2\n",
    "import numpy as np"
   ]
  },
  {
   "cell_type": "code",
   "execution_count": 5,
   "metadata": {},
   "outputs": [
    {
     "name": "stdout",
     "output_type": "stream",
     "text": [
      "<class 'list'>\n",
      "<class 'numpy.ndarray'>\n"
     ]
    }
   ],
   "source": [
    "src = cv2.imread('./data/lena.jpg')\n",
    "dst = cv2.split(src)\n",
    "print(type(dst))\n",
    "print(type(dst[0]))  # type(dst[1]), type(dst[2])\n",
    "\n",
    "cv2.imshow('image', src)\n",
    "cv2.imshow('blue', dst[0])\n",
    "cv2.imshow('green', dst[1])\n",
    "cv2.imshow('red', dst[2])\n",
    "cv2.waitKey()\n",
    "cv2.destroyAllWindows()"
   ]
  },
  {
   "cell_type": "code",
   "execution_count": 4,
   "metadata": {},
   "outputs": [
    {
     "name": "stdout",
     "output_type": "stream",
     "text": [
      "<class 'numpy.ndarray'>\n",
      "(512, 512, 3)\n"
     ]
    }
   ],
   "source": [
    "src = cv2.imread('./data/lena.jpg')\n",
    "\n",
    "b, g, r = cv2.split(src)\n",
    "dst = cv2.merge([b, g, r])  # cv2.merge([r, g, b])\n",
    "\n",
    "print(type(dst))\n",
    "print(dst.shape)\n",
    "cv2.imshow('dst', dst)\n",
    "cv2.waitKey()\n",
    "cv2.destroyAllWindows()"
   ]
  },
  {
   "cell_type": "code",
   "execution_count": 6,
   "metadata": {},
   "outputs": [],
   "source": [
    "src = cv2.imread('./data/lena.jpg')\n",
    "\n",
    "gray = cv2.cvtColor(src, cv2.COLOR_BGR2GRAY)\n",
    "yCrCv = cv2.cvtColor(src, cv2.COLOR_BGR2YCrCb)\n",
    "hsv = cv2.cvtColor(src, cv2.COLOR_BGR2HSV)\n",
    "\n",
    "cv2.imshow('image', src)\n",
    "cv2.imshow('gray', gray)\n",
    "cv2.imshow('yCrCv', yCrCv)\n",
    "cv2.imshow('hsv', hsv)\n",
    "\n",
    "cv2.waitKey()\n",
    "cv2.destroyAllWindows()"
   ]
  }
 ],
 "metadata": {
  "kernelspec": {
   "display_name": "Python 3",
   "language": "python",
   "name": "python3"
  },
  "language_info": {
   "codemirror_mode": {
    "name": "ipython",
    "version": 3
   },
   "file_extension": ".py",
   "mimetype": "text/x-python",
   "name": "python",
   "nbconvert_exporter": "python",
   "pygments_lexer": "ipython3",
   "version": "3.7.6"
  }
 },
 "nbformat": 4,
 "nbformat_minor": 4
}
