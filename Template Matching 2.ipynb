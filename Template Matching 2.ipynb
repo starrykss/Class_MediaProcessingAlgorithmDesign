{
 "cells": [
  {
   "cell_type": "markdown",
   "metadata": {},
   "source": [
    "# Template Matching 2\n",
    "### : 알파벳 찾기"
   ]
  },
  {
   "cell_type": "code",
   "execution_count": 1,
   "metadata": {},
   "outputs": [],
   "source": [
    "import cv2\n",
    "import numpy as np"
   ]
  },
  {
   "cell_type": "code",
   "execution_count": 6,
   "metadata": {},
   "outputs": [
    {
     "name": "stdout",
     "output_type": "stream",
     "text": [
      "TM_SQDIFF_NORMED: 1.4045500051906856e-07 (18, 20)\n",
      "TM_CCORR_NORMED: 1.0000001192092896 (280, 146)\n",
      "TM_CCOEFF_NORMED: 0.9999994039535522 (92, 280)\n"
     ]
    }
   ],
   "source": [
    "src = cv2.imread('./data/alphabet.bmp', cv2.IMREAD_GRAYSCALE)\n",
    "\n",
    "tmp_A = cv2.imread('./data/A.bmp', cv2.IMREAD_GRAYSCALE)\n",
    "tmp_S = cv2.imread('./data/S.bmp', cv2.IMREAD_GRAYSCALE)\n",
    "tmp_b = cv2.imread('./data/b.bmp', cv2.IMREAD_GRAYSCALE)\n",
    "\n",
    "dst = cv2.cvtColor(src, cv2.COLOR_GRAY2BGR) # 출력 표시 영상\n",
    "\n",
    "#1\n",
    "R1 = cv2.matchTemplate(src, tmp_A, cv2.TM_SQDIFF_NORMED)\n",
    "minVal, _, minLoc, _ = cv2.minMaxLoc(R1)\n",
    "print('TM_SQDIFF_NORMED:', minVal, minLoc)\n",
    "w, h = tmp_A.shape[:2]\n",
    "cv2.rectangle(dst, minLoc, (minLoc[0]+h, minLoc[1]+w), (255, 0, 0), 2)\n",
    "\n",
    "#2\n",
    "R2 = cv2.matchTemplate(src, tmp_S, cv2.TM_CCORR_NORMED)\n",
    "_, maxVal, _, maxLoc = cv2.minMaxLoc(R2)\n",
    "print('TM_CCORR_NORMED:', maxVal, maxLoc)\n",
    "w, h = tmp_S.shape[:2]\n",
    "cv2.rectangle(dst, maxLoc, (maxLoc[0]+h, maxLoc[1]+w), (0, 255, 0), 2)\n",
    "\n",
    "#3\n",
    "R3 = cv2.matchTemplate(src, tmp_b, cv2.TM_CCOEFF_NORMED)\n",
    "_, maxVal, _, maxLoc = cv2.minMaxLoc(R3)\n",
    "print('TM_CCOEFF_NORMED:', maxVal, maxLoc)\n",
    "w, h = tmp_b.shape[:2]\n",
    "cv2.rectangle(dst, maxLoc, (maxLoc[0]+h, maxLoc[1]+w), (0, 0, 255), 2)\n",
    "\n",
    "cv2.imshow('src', src)\n",
    "cv2.imshow('tmp_A', tmp_A)\n",
    "cv2.imshow('tmp_S', tmp_S)\n",
    "cv2.imshow('tmp_b', tmp_b)\n",
    "cv2.imshow('dst', dst)\n",
    "\n",
    "cv2.waitKey()\n",
    "cv2.destroyAllWindows()"
   ]
  }
 ],
 "metadata": {
  "kernelspec": {
   "display_name": "Python 3",
   "language": "python",
   "name": "python3"
  },
  "language_info": {
   "codemirror_mode": {
    "name": "ipython",
    "version": 3
   },
   "file_extension": ".py",
   "mimetype": "text/x-python",
   "name": "python",
   "nbconvert_exporter": "python",
   "pygments_lexer": "ipython3",
   "version": "3.7.6"
  }
 },
 "nbformat": 4,
 "nbformat_minor": 4
}
