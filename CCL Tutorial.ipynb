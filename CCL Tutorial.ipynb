{
 "cells": [
  {
   "cell_type": "markdown",
   "metadata": {},
   "source": [
    "# CCL Tutorial"
   ]
  },
  {
   "cell_type": "code",
   "execution_count": 1,
   "metadata": {},
   "outputs": [],
   "source": [
    "import cv2\n",
    "import numpy as np"
   ]
  },
  {
   "cell_type": "code",
   "execution_count": 2,
   "metadata": {},
   "outputs": [],
   "source": [
    "src = cv2.imread('./data/circles.jpg')\n",
    "\n",
    "gray = cv2.cvtColor(src, cv2.COLOR_BGR2GRAY)\n",
    "ret, res = cv2.threshold(gray, 128, 255, cv2.THRESH_BINARY_INV)\n",
    "\n",
    "cv2.imshow('src', src)\n",
    "cv2.imshow('res', res)\n",
    "cv2.waitKey()\n",
    "cv2.destroyAllWindows()"
   ]
  },
  {
   "cell_type": "code",
   "execution_count": 7,
   "metadata": {},
   "outputs": [
    {
     "name": "stdout",
     "output_type": "stream",
     "text": [
      "ret = 4\n"
     ]
    }
   ],
   "source": [
    "ret, labels = cv2.connectedComponents(res)\n",
    "print('ret =', ret)"
   ]
  },
  {
   "cell_type": "code",
   "execution_count": 9,
   "metadata": {},
   "outputs": [],
   "source": [
    "dst = np.zeros(src.shape, dtype=src.dtype)\n",
    "for i in range(1, ret):  # 분할영역 표시\n",
    "    r = np.random.randint(256)\n",
    "    g = np.random.randint(256)\n",
    "    b = np.random.randint(256)\n",
    "    dst[labels == i] = [b, g, r]\n",
    "    \n",
    "cv2.imshow('src', src)\n",
    "cv2.imshow('res', res)\n",
    "cv2.imshow('dst', dst)\n",
    "cv2.waitKey()\n",
    "cv2.destroyAllWindows()"
   ]
  },
  {
   "cell_type": "code",
   "execution_count": 10,
   "metadata": {},
   "outputs": [
    {
     "name": "stdout",
     "output_type": "stream",
     "text": [
      "ret = 4\n",
      "stats = [[     0      0    512    512 222719]\n",
      " [   308     86    125    125  12281]\n",
      " [   153    145    152    152  18152]\n",
      " [   292    338    107    107   8992]]\n",
      "centroids = [[247.77339607 258.80937863]\n",
      " [370.         148.        ]\n",
      " [228.5        220.50534376]\n",
      " [345.00077847 390.99477313]]\n"
     ]
    }
   ],
   "source": [
    "ret, labels, stats, centroids = cv2.connectedComponentsWithStats(res)\n",
    "print('ret =', ret)\n",
    "print('stats =', stats)\n",
    "print('centroids =', centroids)"
   ]
  },
  {
   "cell_type": "code",
   "execution_count": 16,
   "metadata": {},
   "outputs": [],
   "source": [
    "dst = np.zeros(src.shape, dtype=src.dtype)\n",
    "\n",
    "for i in range(1, int(ret)):  # 분할영역 표시\n",
    "    r = np.random.randint(256)\n",
    "    g = np.random.randint(256)\n",
    "    b = np.random.randint(256)\n",
    "    dst[labels == i] = [b, g, r]"
   ]
  },
  {
   "cell_type": "code",
   "execution_count": 17,
   "metadata": {},
   "outputs": [],
   "source": [
    "for i in range(1, int(ret)):\n",
    "    x, y, width, height, area = stats[i]\n",
    "    cv2.rectangle(dst, (x, y), (x+width, y+height), (0, 0, 255), 2)\n",
    "    cx, cy = centroids[i]\n",
    "    cv2.circle(dst, (int(cx), int(cy)), 5, (255, 0, 0), -1)\n",
    "    \n",
    "cv2.imshow('src', src)\n",
    "cv2.imshow('dst', dst)\n",
    "cv2.waitKey()\n",
    "cv2.destroyAllWindows()"
   ]
  }
 ],
 "metadata": {
  "kernelspec": {
   "display_name": "Python 3",
   "language": "python",
   "name": "python3"
  },
  "language_info": {
   "codemirror_mode": {
    "name": "ipython",
    "version": 3
   },
   "file_extension": ".py",
   "mimetype": "text/x-python",
   "name": "python",
   "nbconvert_exporter": "python",
   "pygments_lexer": "ipython3",
   "version": "3.7.6"
  }
 },
 "nbformat": 4,
 "nbformat_minor": 4
}
