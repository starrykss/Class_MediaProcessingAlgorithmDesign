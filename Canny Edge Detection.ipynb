{
 "cells": [
  {
   "cell_type": "markdown",
   "metadata": {},
   "source": [
    "# Canny Edge Detection"
   ]
  },
  {
   "cell_type": "code",
   "execution_count": 1,
   "metadata": {},
   "outputs": [],
   "source": [
    "import cv2\n",
    "import numpy as np\n",
    "import imutils"
   ]
  },
  {
   "cell_type": "code",
   "execution_count": 7,
   "metadata": {},
   "outputs": [],
   "source": [
    "src = cv2.imread('./data/lena.jpg', cv2.IMREAD_GRAYSCALE)\n",
    "\n",
    "edges1 = cv2.Canny(src, 50, 100)\n",
    "edges2 = cv2.Canny(src, 50, 200)\n",
    "\n",
    "cv2.imshow('src', src)\n",
    "cv2.imshow('edges1', edges1)\n",
    "cv2.imshow('edges2', edges2)\n",
    "\n",
    "cv2.waitKey()\n",
    "cv2.destroyAllWindows()"
   ]
  },
  {
   "cell_type": "code",
   "execution_count": 11,
   "metadata": {},
   "outputs": [],
   "source": [
    "gray = cv2.imread('./data/coins.png', cv2.IMREAD_GRAYSCALE)\n",
    "\n",
    "blurred = cv2.GaussianBlur(gray, (5, 5), 0)  # 가우시안 필터 적용\n",
    "\n",
    "wide = cv2.Canny(blurred, 10, 200)\n",
    "mid = cv2.Canny(blurred, 30, 150)\n",
    "tight = cv2.Canny(blurred, 240, 250)\n",
    "\n",
    "cv2.imshow('Original', gray)\n",
    "cv2.imshow('Blurred', blurred)\n",
    "cv2.imshow('Wide Edge Map', wide)\n",
    "cv2.imshow('Mid Edge Map', mid)\n",
    "cv2.imshow('Tight Edge Map', tight)\n",
    "\n",
    "cv2.waitKey()\n",
    "cv2.destroyAllWindows()"
   ]
  },
  {
   "cell_type": "code",
   "execution_count": 10,
   "metadata": {},
   "outputs": [],
   "source": [
    "gray = cv2.imread('./data/teacup.jpg', cv2.IMREAD_GRAYSCALE)\n",
    "\n",
    "blurred = cv2.GaussianBlur(gray, (3, 3), 0)  # 가우시안 필터 적용\n",
    "\n",
    "wide = cv2.Canny(blurred, 10, 200)\n",
    "tight = cv2.Canny(blurred, 225, 250)\n",
    "auto = imutils.auto_canny(blurred)\n",
    "\n",
    "# show the images\n",
    "cv2.imshow('Original', gray)\n",
    "cv2.imshow('Blurred', blurred)\n",
    "cv2.imshow('Wide', wide)\n",
    "cv2.imshow('Tight', tight)\n",
    "cv2.imshow('Auto', auto)\n",
    "\n",
    "cv2.waitKey()\n",
    "cv2.destroyAllWindows()"
   ]
  }
 ],
 "metadata": {
  "kernelspec": {
   "display_name": "Python 3",
   "language": "python",
   "name": "python3"
  },
  "language_info": {
   "codemirror_mode": {
    "name": "ipython",
    "version": 3
   },
   "file_extension": ".py",
   "mimetype": "text/x-python",
   "name": "python",
   "nbconvert_exporter": "python",
   "pygments_lexer": "ipython3",
   "version": "3.7.6"
  }
 },
 "nbformat": 4,
 "nbformat_minor": 4
}
