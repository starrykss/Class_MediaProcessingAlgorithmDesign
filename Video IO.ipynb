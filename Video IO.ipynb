{
 "cells": [
  {
   "cell_type": "markdown",
   "metadata": {},
   "source": [
    "# Video IO"
   ]
  },
  {
   "cell_type": "markdown",
   "metadata": {},
   "source": [
    "---"
   ]
  },
  {
   "cell_type": "markdown",
   "metadata": {},
   "source": [
    "# 1. Video Input and Display - File"
   ]
  },
  {
   "cell_type": "code",
   "execution_count": 6,
   "metadata": {},
   "outputs": [
    {
     "name": "stdout",
     "output_type": "stream",
     "text": [
      "frame_size = (768, 576)\n"
     ]
    }
   ],
   "source": [
    "import cv2\n",
    "\n",
    "##cap = cv2.VideoCapture(0)   # 0번 카메라\n",
    "cap = cv2.VideoCapture('./data/vtest.avi')\n",
    "frame_size = (int(cap.get(cv2.CAP_PROP_FRAME_WIDTH)), int(cap.get(cv2.CAP_PROP_FRAME_HEIGHT)))\n",
    "print('frame_size =', frame_size)\n",
    "\n",
    "while True:\n",
    "    retval, frame = cap.read()   # 프레임 캡쳐\n",
    "    if not retval:\n",
    "        break\n",
    "        \n",
    "    cv2.imshow('frame', frame)\n",
    "    \n",
    "    key = cv2.waitKey(25)   # seconds(miliseconds)\n",
    "    if key == 27:  # Esc\n",
    "        break\n",
    "        \n",
    "if cap.isOpened():\n",
    "    cap.release()\n",
    "    \n",
    "cv2.destroyAllWindows()"
   ]
  },
  {
   "cell_type": "markdown",
   "metadata": {},
   "source": [
    "# 2. Video Input and DIsplay - YouTube"
   ]
  },
  {
   "cell_type": "markdown",
   "metadata": {},
   "source": [
    "#### pip install youtube_dl"
   ]
  },
  {
   "cell_type": "markdown",
   "metadata": {},
   "source": [
    "#### pip install pafy"
   ]
  },
  {
   "cell_type": "code",
   "execution_count": 9,
   "metadata": {},
   "outputs": [
    {
     "name": "stdout",
     "output_type": "stream",
     "text": [
      "title =  BTS (방탄소년단) '봄날 (Spring Day)' Official MV\n",
      "video.rating =  4.9257412\n",
      "video.duration =  00:05:29\n",
      "normal:mp4@640x360\n",
      "best.resolution 640x360\n"
     ]
    }
   ],
   "source": [
    "import pafy\n",
    "url = 'https://www.youtube.com/watch?v=xEeFrLSkMm8'\n",
    "\n",
    "video = pafy.new(url)\n",
    "print('title = ', video.title)\n",
    "print('video.rating = ', video.rating)\n",
    "print('video.duration = ', video.duration)\n",
    "\n",
    "best = video.getbest(preftype = 'mp4')  # 'mp4', '3gp'\n",
    "print(best)\n",
    "print('best.resolution', best.resolution)\n",
    "\n",
    "cap = cv2.VideoCapture(best.url)\n",
    "\n",
    "while(True):\n",
    "    retval, frame = cap.read()\n",
    "    if not retval:\n",
    "        brreak\n",
    "    cv2.imshow('frame', frame)\n",
    "    \n",
    "    gray = cv2.cvtColor(frame, cv2.COLOR_BGR2GRAY)\n",
    "    edges = cv2.Canny(gray, 100, 200)\n",
    "    cv2.imshow('edges', edges)\n",
    "    \n",
    "    key = cv2.waitKey(25)\n",
    "    if key == 27:   # Esc\n",
    "        break\n",
    "        \n",
    "cv2.destroyAllWindows()"
   ]
  }
 ],
 "metadata": {
  "kernelspec": {
   "display_name": "Python 3",
   "language": "python",
   "name": "python3"
  },
  "language_info": {
   "codemirror_mode": {
    "name": "ipython",
    "version": 3
   },
   "file_extension": ".py",
   "mimetype": "text/x-python",
   "name": "python",
   "nbconvert_exporter": "python",
   "pygments_lexer": "ipython3",
   "version": "3.7.6"
  }
 },
 "nbformat": 4,
 "nbformat_minor": 4
}
