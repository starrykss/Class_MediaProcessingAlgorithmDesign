{
 "cells": [
  {
   "cell_type": "markdown",
   "metadata": {},
   "source": [
    "# Template Matching 1"
   ]
  },
  {
   "cell_type": "code",
   "execution_count": 1,
   "metadata": {},
   "outputs": [],
   "source": [
    "import cv2\n",
    "import numpy as np"
   ]
  },
  {
   "cell_type": "code",
   "execution_count": 3,
   "metadata": {},
   "outputs": [
    {
     "name": "stdout",
     "output_type": "stream",
     "text": [
      "TM_SQDIFF_NORMED: 0.0 (558, 323)\n"
     ]
    }
   ],
   "source": [
    "src = cv2.imread('./data/circuit.bmp', cv2.IMREAD_GRAYSCALE)\n",
    "tmp = cv2.imread('./data/circuit_tmp.bmp', cv2.IMREAD_GRAYSCALE)\n",
    "dst = cv2.cvtColor(src, cv2.COLOR_GRAY2BGR)  # 출력 표시 영상\n",
    "\n",
    "R1 = cv2.matchTemplate(src, tmp, cv2.TM_SQDIFF_NORMED)\n",
    "minVal, _, minLoc, _ = cv2.minMaxLoc(R1)\n",
    "print('TM_SQDIFF_NORMED:', minVal, minLoc)\n",
    "\n",
    "w, h = tmp.shape[:2]\n",
    "cv2.rectangle(dst, minLoc, (minLoc[0]+h, minLoc[1]+w), (255, 0, 0), 2)\n",
    "\n",
    "cv2.imshow('src', src)\n",
    "cv2.imshow('tmp', tmp)\n",
    "cv2.imshow('dst', dst)\n",
    "\n",
    "cv2.waitKey()\n",
    "cv2.destroyAllWindows()"
   ]
  },
  {
   "cell_type": "code",
   "execution_count": 9,
   "metadata": {},
   "outputs": [
    {
     "name": "stdout",
     "output_type": "stream",
     "text": [
      "TM_CCORR_NORMED 0.8441441655158997 (558, 323)\n"
     ]
    }
   ],
   "source": [
    "src = cv2.imread('./data/circuit_modified.bmp', cv2.IMREAD_GRAYSCALE)\n",
    "tmp = cv2.imread('./data/circuit_tmp.bmp', cv2.IMREAD_GRAYSCALE)\n",
    "dst = cv2.cvtColor(src, cv2.COLOR_GRAY2BGR)  # 출력 표시 영상\n",
    "\n",
    "R1 = cv2.matchTemplate(src, tmp, cv2.TM_SQDIFF_NORMED)\n",
    "# R1 = cv2.matchTemplate(src, tmp, cv2.TM_CCORR_NORMED)\n",
    "# R1 = cv2.matchTemplate(src, tmp, cv2.TM_CCOEFF_NORMED)\n",
    "\n",
    "minVal, maxVal, minLoc, maxLoc = cv2.minMaxLoc(R1)\n",
    "\n",
    "print('TM_SQDIFF_NORMED', minVal, minLoc)\n",
    "# print('TM_CCORR_NORMED', maxVal, maxLoc)\n",
    "# print('TM_CCOEFF_NORMED', maxVal, maxLoc)\n",
    "\n",
    "y, x = minLoc[:2]\n",
    "# y, x = maxLoc[:2]\n",
    "w, h = tmp.shape[:2]\n",
    "cv2.rectangle(dst, (y, x), (y+h, x+w), (255, 0, 0), 2)\n",
    "\n",
    "cv2.imshow('src', src)\n",
    "cv2.imshow('tmp', tmp)\n",
    "cv2.imshow('dst', dst)\n",
    "\n",
    "cv2.waitKey()\n",
    "cv2.destroyAllWindows()"
   ]
  }
 ],
 "metadata": {
  "kernelspec": {
   "display_name": "Python 3",
   "language": "python",
   "name": "python3"
  },
  "language_info": {
   "codemirror_mode": {
    "name": "ipython",
    "version": 3
   },
   "file_extension": ".py",
   "mimetype": "text/x-python",
   "name": "python",
   "nbconvert_exporter": "python",
   "pygments_lexer": "ipython3",
   "version": "3.7.6"
  }
 },
 "nbformat": 4,
 "nbformat_minor": 4
}
