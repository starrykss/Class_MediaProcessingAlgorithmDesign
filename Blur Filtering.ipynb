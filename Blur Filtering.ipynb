{
 "cells": [
  {
   "cell_type": "markdown",
   "metadata": {},
   "source": [
    "# Blur Filtering"
   ]
  },
  {
   "cell_type": "code",
   "execution_count": 1,
   "metadata": {},
   "outputs": [],
   "source": [
    "import cv2\n",
    "import numpy as np"
   ]
  },
  {
   "cell_type": "code",
   "execution_count": 7,
   "metadata": {},
   "outputs": [],
   "source": [
    "src = cv2.imread('./data/lena.jpg', cv2.IMREAD_GRAYSCALE)\n",
    "\n",
    "dst1 = cv2.boxFilter(src, ddepth=-1, ksize=(11, 11))\n",
    "dst2 = cv2.boxFilter(src, ddepth=-1, ksize=(21, 21))\n",
    "\n",
    "cv2.imshow('src', src)\n",
    "cv2.imshow('dst1', dst1)\n",
    "cv2.imshow('dst2', dst2)\n",
    "\n",
    "cv2.waitKey()\n",
    "cv2.destroyAllWindows()"
   ]
  },
  {
   "cell_type": "code",
   "execution_count": 12,
   "metadata": {},
   "outputs": [],
   "source": [
    "src = cv2.imread('./data/lena.jpg', cv2.IMREAD_GRAYSCALE)\n",
    "\n",
    "dst1 = cv2.medianBlur(src, ksize=7)  # Edge가 뭉개짐\n",
    "dst2 = cv2.blur(src, ksize=(7, 7))\n",
    "dst3 = cv2.GaussianBlur(src, ksize=(7, 7), sigmaX=0.0)\n",
    "dst4 = cv2.GaussianBlur(src, ksize=(7, 7), sigmaX=10.0)\n",
    "\n",
    "cv2.imshow('src', src)\n",
    "cv2.imshow('dst1', dst1)\n",
    "cv2.imshow('dst2', dst2)\n",
    "cv2.imshow('dst3', dst3)\n",
    "cv2.imshow('dst4', dst4)\n",
    "\n",
    "cv2.waitKey()\n",
    "cv2.destroyAllWindows()"
   ]
  },
  {
   "cell_type": "code",
   "execution_count": 10,
   "metadata": {},
   "outputs": [],
   "source": [
    "src = cv2.imread('./data/lena.jpg', cv2.IMREAD_GRAYSCALE)\n",
    "\n",
    "dst1 = cv2.boxFilter(src, ddepth=-1, ksize=(11, 11))\n",
    "dst2 = cv2.boxFilter(src, ddepth=-1, ksize=(21, 21))\n",
    "\n",
    "dst3 = cv2.bilateralFilter(src, d=11, sigmaColor=10, sigmaSpace=10)\n",
    "dst4 = cv2.bilateralFilter(src, d=-1, sigmaColor=10, sigmaSpace=10)\n",
    "\n",
    "cv2.imshow('src', src)\n",
    "cv2.imshow('dst1', dst1)\n",
    "cv2.imshow('dst2', dst2)\n",
    "cv2.imshow('dst3', dst1)\n",
    "cv2.imshow('dst4', dst2)\n",
    "\n",
    "cv2.waitKey()\n",
    "cv2.destroyAllWindows()"
   ]
  },
  {
   "cell_type": "code",
   "execution_count": 14,
   "metadata": {},
   "outputs": [],
   "source": [
    "src = cv2.imread('./data/lena.jpg', cv2.IMREAD_GRAYSCALE)\n",
    "srcn = cv2.imread('./data/lena_gray_noise.jpg', cv2.IMREAD_GRAYSCALE)\n",
    "\n",
    "dst1 = cv2.blur(srcn, ksize=(7,7))\n",
    "dst2 = cv2.GaussianBlur(srcn, ksize=(7, 7), sigmaX=3.0)\n",
    "dst3 = cv2.bilateralFilter(srcn, d=-1, sigmaColor=5, sigmaSpace=5)\n",
    "dst4 = cv2.medianBlur(srcn, ksize=3)\n",
    "\n",
    "cv2.imshow('src', src)\n",
    "cv2.imshow('srcn', srcn)\n",
    "cv2.imshow('dst1', dst1)\n",
    "cv2.imshow('dst2', dst2)\n",
    "cv2.imshow('dst3', dst3)\n",
    "cv2.imshow('dst4', dst4) # medianBlur는 salt and pepper noise에 잘 작용함.\n",
    "\n",
    "cv2.waitKey()\n",
    "cv2.destroyAllWindows()"
   ]
  },
  {
   "cell_type": "markdown",
   "metadata": {},
   "source": [
    "- 영상의 필터링\n",
    "    - 영상에서 원하는 정보는 통과, 나머지는 걸러내는 작업\n",
    "    - 대표적인 필터 : 잡음 제거, 부드러운 성분 제거 등\n",
    "    - 필터(마스크, 커널, 윈도우, ...)와 합성곱 연산\n",
    "    - 필터링 연산\n",
    "        - 합성곱 연산\n",
    "        - 경계선 처리\n",
    "            - `BORDER_CONSTANT`\n",
    "            - `BORDER_REPLICATE`\n",
    "            - `BORDER_REFLECT`\n",
    "            - `BOLDER_REFLECT_101`\n",
    "            - `BORDER_REFLECT101` : BORDER_REFLECT_101과 같음\n",
    "            - `BORDER_DEFAULT` : BORDER_REFLECT_101과 같음\n",
    "    - 블러 필터\n",
    "        - 영상을 부드럽게 하는 필터\n",
    "        - **cv2.boxFilter**\n",
    "        - **cv2.blur**\n",
    "        - **cv2.GaussianBlur**\n",
    "        - **cv2.bilateralFilter**\n",
    "        - **cv2.medianBlur**\n",
    "\n",
    "> **cv2.boxFilter, cv2.blur**\n",
    "\n",
    "- **(src, ddepth, ksize[, dst[, anchor[, normalize[, borderType]]]])** -> dst\n",
    "    - src : input\n",
    "    - ddepth : outputimage depth(보통 -1, src와 같은 depth)\n",
    "    - ksize : kernel size\n",
    "    - anchor : 커널 중심, default:(-1, -1)\n",
    "    - normalize : flag, 정규화\n",
    "    - borderType : padding 방법\n",
    "        \n",
    "> **cv2.GaussianBlur**\n",
    "\n",
    "- **(src, ksize, sigmaX[, dst[, sigmaY[, borderType]]])** -> dst\n",
    "    - src : input\n",
    "    - ksize = kernel size\n",
    "    - sigmaX, sigmaY : 가우시안 시그마값\n",
    "\n",
    "> **cv2.bilateralFilter**\n",
    "\n",
    "- **(src, d, sigmaColor, sigmaSpace[, dst[, borderType]])** -> dst\n",
    "    - src : input\n",
    "    - d : 필터링에 이용될 이웃 픽셀 지름 (실시간 처리는 5, -1이면 자동 계산)\n",
    "    - sigmaColor, sigmaSpace : 컬러/좌표 공간 시그마\n",
    "- Edge-preserving noise removal filter\n",
    "\n",
    "> **cv2.medianBlur**\n",
    "\n",
    "- **(src, ksize[, dst])** -> dst\n",
    "    - src : input\n",
    "    - ksize : kernel size\n",
    "- 필셀의 중앙값을 취하는 방법"
   ]
  }
 ],
 "metadata": {
  "kernelspec": {
   "display_name": "Python 3",
   "language": "python",
   "name": "python3"
  },
  "language_info": {
   "codemirror_mode": {
    "name": "ipython",
    "version": 3
   },
   "file_extension": ".py",
   "mimetype": "text/x-python",
   "name": "python",
   "nbconvert_exporter": "python",
   "pygments_lexer": "ipython3",
   "version": "3.7.6"
  }
 },
 "nbformat": 4,
 "nbformat_minor": 4
}
